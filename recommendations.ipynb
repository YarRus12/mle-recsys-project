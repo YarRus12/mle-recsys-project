{
 "cells": [
  {
   "cell_type": "markdown",
   "id": "993de991",
   "metadata": {},
   "source": [
    "Привет, меня зовут Артем Носенко и я буду проверять твой проект.\n",
    "<br>Небольшая вступительная часть и начнем работу)\n",
    "<br> Если не против, то предлагаю общаться на «ты». Если это не удобно - дай знать, и мы перейдем на \"вы\". Моя основная цель — не указать на совершенные ошибки, а поделиться своим опытом и помочь сделать твой проект лучше. Для этого я буду использовать разный стиль оформления комментариев.\n",
    "<div class=\"alert alert-block alert-success\">\n",
    "✔️ Все хорошо.\n",
    "</div>\n",
    "\n",
    "<div class=\"alert alert-warning\">\n",
    "⚠️ Критических замечаний нет, но есть возможность сделать твою работу лучше.\n",
    "</div>\n",
    "\n",
    "<div class=\"alert alert-block alert-danger\">\n",
    "❌ Если требуются исправления. Работа не может быть принята с красными комментариями.\n",
    "</div>\n",
    "\n",
    "\n",
    "Давай работать над проектом в диалоге: если ты что-то меняешь в проекте по моим рекомендациям — пиши об этом.\n",
    "Будет очень хорошо, если ты будешь помечать свои действия следующим образом:\n",
    "<div class=\"alert alert-block alert-info\">\n",
    "<b>Комментарий студента:</b> ...\n",
    "</div>\n",
    "Пожалуйста, не перемещай, не изменяй и не удаляй мои комментарии. Всё это поможет выполнить повторную проверку твоего проекта оперативнее».\n"
   ]
  },
  {
   "cell_type": "markdown",
   "id": "f4095ae4-7294-4b28-853e-88d235002c97",
   "metadata": {},
   "source": [
    "# Инициализация"
   ]
  },
  {
   "cell_type": "markdown",
   "id": "2f2318d2-9df8-4911-915e-15b725c44f8a",
   "metadata": {},
   "source": [
    "Загружаем библиотеки необходимые для выполнения кода ноутбука."
   ]
  },
  {
   "cell_type": "code",
   "execution_count": 2,
   "id": "662d04e7-1b0b-4e4a-9ddf-4526d7fef119",
   "metadata": {},
   "outputs": [
    {
     "data": {
      "text/plain": [
       "True"
      ]
     },
     "execution_count": 2,
     "metadata": {},
     "output_type": "execute_result"
    }
   ],
   "source": [
    "import os\n",
    "import pandas as pd\n",
    "import matplotlib.pyplot as plt\n",
    "import dotenv\n",
    "import boto3\n",
    "import numpy as np\n",
    "dotenv.load_dotenv()"
   ]
  },
  {
   "cell_type": "markdown",
   "id": "630f3323",
   "metadata": {},
   "source": [
    "<b>Комментарий от ревьюера v1</b>\n",
    "<div class=\"alert alert-block alert-success\">\n",
    "✔️ Импорты сделаны, отлично!\n",
    "</div>\n",
    "\n",
    "Импорты стоит располагать в отдельной ячейке и группировать по типам. Вот [тут](https://peps.python.org/pep-0008/#imports:~:text=Imports%20should%20be,library%20specific%20imports.) можно посмотреть, как в стандарте PEP8 оформляются импорты."
   ]
  },
  {
   "cell_type": "markdown",
   "id": "bf80fbc5-b660-4fac-8fbb-a5cae77313b3",
   "metadata": {},
   "source": [
    "# === ЭТАП 1 ==="
   ]
  },
  {
   "cell_type": "markdown",
   "id": "5263a8b3-fe99-4204-8a2e-105182792c11",
   "metadata": {},
   "source": [
    "# Загрузка первичных данных"
   ]
  },
  {
   "cell_type": "markdown",
   "id": "1b54a6a5-1656-4e3c-99d1-49dc39451d33",
   "metadata": {},
   "source": [
    "Загружаем первичные данные из файлов:\n",
    "- tracks.parquet\n",
    "- catalog_names.parquet\n",
    "- interactions.parquet"
   ]
  },
  {
   "cell_type": "code",
   "execution_count": 3,
   "id": "5d4b8961-3f35-4e58-9d6b-3e2dbd2c4224",
   "metadata": {},
   "outputs": [],
   "source": [
    "tracks = pd.read_parquet('tracks.parquet')\n",
    "catalog_names = pd.read_parquet('catalog_names.parquet')\n",
    "interactions = pd.read_parquet('interactions.parquet')"
   ]
  },
  {
   "cell_type": "markdown",
   "id": "4aee882c",
   "metadata": {},
   "source": [
    "<b>Комментарий от ревьюера v1</b>\n",
    "<div class=\"alert alert-block alert-success\">\n",
    "✔️ Данные загружены, отлично!\n",
    "</div>"
   ]
  },
  {
   "cell_type": "markdown",
   "id": "e8f2a1f7-a05f-4f39-af90-5f4018aa6f9d",
   "metadata": {},
   "source": [
    "# Обзор данных"
   ]
  },
  {
   "cell_type": "markdown",
   "id": "46a85307-896c-4fac-9fcf-f0dffa90889e",
   "metadata": {},
   "source": [
    "Проверяем данные, есть ли с ними явные проблемы."
   ]
  },
  {
   "cell_type": "code",
   "execution_count": 4,
   "id": "c9f8f17e-9b56-4f5a-a463-f694a993effb",
   "metadata": {},
   "outputs": [
    {
     "name": "stdout",
     "output_type": "stream",
     "text": [
      "101521819\n",
      "<class 'pandas.core.frame.DataFrame'>\n",
      "RangeIndex: 1000000 entries, 0 to 999999\n",
      "Data columns (total 4 columns):\n",
      " #   Column    Non-Null Count    Dtype \n",
      "---  ------    --------------    ----- \n",
      " 0   track_id  1000000 non-null  int32 \n",
      " 1   albums    1000000 non-null  object\n",
      " 2   artists   1000000 non-null  object\n",
      " 3   genres    1000000 non-null  object\n",
      "dtypes: int32(1), object(3)\n",
      "memory usage: 26.7+ MB\n"
     ]
    },
    {
     "data": {
      "text/plain": [
       "'\\nid трека целочисленное значение \\nостальные поля это списки чисел - что логично\\n\\n'"
      ]
     },
     "execution_count": 4,
     "metadata": {},
     "output_type": "execute_result"
    }
   ],
   "source": [
    "print(tracks['track_id'].max())\n",
    "tracks['track_id'] = tracks['track_id'].astype('int32')\n",
    "tracks.info()\n",
    "\n",
    "\"\"\"\n",
    "id трека целочисленное значение \n",
    "остальные поля это списки чисел - что логично\n",
    "\n",
    "\"\"\""
   ]
  },
  {
   "cell_type": "code",
   "execution_count": 5,
   "id": "be1b5d5d",
   "metadata": {},
   "outputs": [
    {
     "name": "stdout",
     "output_type": "stream",
     "text": [
      "101521819\n",
      "<class 'pandas.core.frame.DataFrame'>\n",
      "RangeIndex: 1812471 entries, 0 to 1812470\n",
      "Data columns (total 3 columns):\n",
      " #   Column  Dtype \n",
      "---  ------  ----- \n",
      " 0   id      int32 \n",
      " 1   type    object\n",
      " 2   name    object\n",
      "dtypes: int32(1), object(2)\n",
      "memory usage: 34.6+ MB\n"
     ]
    },
    {
     "data": {
      "text/plain": [
       "'\\nid каталога целочисленное значение\\nостальные поля это списки чисел - что логично\\n\\n'"
      ]
     },
     "execution_count": 5,
     "metadata": {},
     "output_type": "execute_result"
    }
   ],
   "source": [
    "print(catalog_names['id'].max())\n",
    "catalog_names['id'] = catalog_names['id'].astype('int32')\n",
    "catalog_names.info()\n",
    "\"\"\"\n",
    "id каталога целочисленное значение\n",
    "остальные поля это списки чисел - что логично\n",
    "\n",
    "\"\"\""
   ]
  },
  {
   "cell_type": "code",
   "execution_count": 6,
   "id": "efd2e2eb-3bec-4ce1-87ac-232bab8bc0d0",
   "metadata": {},
   "outputs": [
    {
     "name": "stdout",
     "output_type": "stream",
     "text": [
      "1374582\n",
      "101521819\n",
      "16637\n",
      "<class 'pandas.core.frame.DataFrame'>\n",
      "Index: 222629898 entries, 0 to 291\n",
      "Data columns (total 4 columns):\n",
      " #   Column      Dtype         \n",
      "---  ------      -----         \n",
      " 0   user_id     int32         \n",
      " 1   track_id    int32         \n",
      " 2   track_seq   int16         \n",
      " 3   started_at  datetime64[ns]\n",
      "dtypes: datetime64[ns](1), int16(1), int32(2)\n",
      "memory usage: 5.4 GB\n"
     ]
    },
    {
     "data": {
      "text/plain": [
       "'\\nid пользователя и трека -  целочисленное значение \\nномер места трека в истории пользователя тоже целочисленное значение малого диапазона\\nдата начала прослушивания - возможно слишком точное значение, зачем нам знать в какую наносекунду был впервые прослушан трек пользователем\\n\\n'"
      ]
     },
     "execution_count": 6,
     "metadata": {},
     "output_type": "execute_result"
    }
   ],
   "source": [
    "print(interactions['user_id'].max())\n",
    "print(interactions['track_id'].max())\n",
    "print(interactions['track_seq'].max())\n",
    "interactions.info()\n",
    "\n",
    "\"\"\"\n",
    "id пользователя и трека -  целочисленное значение \n",
    "номер места трека в истории пользователя тоже целочисленное значение малого диапазона\n",
    "дата начала прослушивания - возможно слишком точное значение, зачем нам знать в какую наносекунду был впервые прослушан трек пользователем\n",
    "\n",
    "\"\"\""
   ]
  },
  {
   "cell_type": "code",
   "execution_count": 7,
   "id": "496ebd8c",
   "metadata": {},
   "outputs": [
    {
     "name": "stdout",
     "output_type": "stream",
     "text": [
      "tracks\n",
      "Количество пустых списков в 'albums': 18\n",
      "Количество пустых списков в 'artists': 15369\n",
      "Количество пустых списков в 'genres': 3687\n",
      "catalog_names\n",
      "Количество пустых списков в 'type': 0\n",
      "Количество пустых списков в 'name': 0\n",
      "interactions\n"
     ]
    }
   ],
   "source": [
    "import pandas as pd\n",
    "\n",
    "def check_empty(df: pd.DataFrame, df_name: str):\n",
    "    print(df_name)\n",
    "    for column in df.columns:\n",
    "        if df[column].dtype == 'object':\n",
    "            count_empty = (df[column].apply(lambda x: len(x) == 0)).sum()\n",
    "            print(f\"Количество пустых списков в '{column}': {count_empty}\")\n",
    "\n",
    "check_empty(df=tracks, df_name='tracks')\n",
    "check_empty(df=catalog_names, df_name='catalog_names')\n",
    "check_empty(df=interactions, df_name='interactions')"
   ]
  },
  {
   "cell_type": "code",
   "execution_count": 8,
   "id": "83f09b02",
   "metadata": {},
   "outputs": [
    {
     "name": "stdout",
     "output_type": "stream",
     "text": [
      "Проверка на NaN в DataFrame: tracks\n",
      "Количество NaN в 'track_id': 0\n",
      "Количество NaN в 'albums': 0\n",
      "Количество NaN в 'artists': 0\n",
      "Количество NaN в 'genres': 0\n",
      "Проверка на NaN в DataFrame: catalog_names\n",
      "Количество NaN в 'id': 0\n",
      "Количество NaN в 'type': 0\n",
      "Количество NaN в 'name': 0\n",
      "Проверка на NaN в DataFrame: interactions\n",
      "Количество NaN в 'user_id': 0\n",
      "Количество NaN в 'track_id': 0\n",
      "Количество NaN в 'track_seq': 0\n",
      "Количество NaN в 'started_at': 0\n"
     ]
    }
   ],
   "source": [
    "def check_nan(df: pd.DataFrame, df_name: str):\n",
    "    print(f\"Проверка на NaN в DataFrame: {df_name}\")\n",
    "    for column in df.columns:\n",
    "        count_nan = df[column].isnull().sum()\n",
    "        print(f\"Количество NaN в '{column}': {count_nan}\")\n",
    "\n",
    "check_nan(df=tracks, df_name='tracks')\n",
    "check_nan(df=catalog_names, df_name='catalog_names')\n",
    "check_nan(df=interactions, df_name='interactions')"
   ]
  },
  {
   "cell_type": "code",
   "execution_count": 9,
   "id": "2b025817",
   "metadata": {},
   "outputs": [
    {
     "name": "stdout",
     "output_type": "stream",
     "text": [
      "tracks\n",
      "Количество пустых списков в 'albums': 0\n",
      "Количество пустых списков в 'artists': 0\n",
      "Количество пустых списков в 'genres': 0\n",
      "catalog_names\n",
      "Количество пустых списков в 'type': 0\n",
      "Количество пустых списков в 'name': 0\n",
      "interactions\n"
     ]
    }
   ],
   "source": [
    "def filter_empty_list(df: pd.DataFrame) -> pd.DataFrame:\n",
    "    for column in df.columns:\n",
    "        if df[column].dtype == 'object':\n",
    "            df = df[df[column].apply(lambda x: len(x) > 0)]\n",
    "    return df\n",
    "\n",
    "tracks = filter_empty_list(df=tracks)\n",
    "catalog_names = filter_empty_list(df=catalog_names)\n",
    "interactions = filter_empty_list(df=interactions)\n",
    "\n",
    "check_empty(df=tracks, df_name='tracks')\n",
    "check_empty(df=catalog_names, df_name='catalog_names')\n",
    "check_empty(df=interactions, df_name='interactions')"
   ]
  },
  {
   "cell_type": "code",
   "execution_count": 10,
   "id": "945a3d68",
   "metadata": {},
   "outputs": [],
   "source": [
    "#Данные в catalog_names разделяем по сущностям\n",
    "genre_сatalog = catalog_names[catalog_names['type'] == 'genre']\n",
    "artist_сatalog = catalog_names[catalog_names['type'] == 'artist']\n",
    "track_сatalog = catalog_names[catalog_names['type'] == 'track']\n",
    "album_сatalog = catalog_names[catalog_names['type'] == 'album']\n"
   ]
  },
  {
   "cell_type": "code",
   "execution_count": 11,
   "id": "c5b2fc2b",
   "metadata": {},
   "outputs": [
    {
     "data": {
      "text/html": [
       "<div>\n",
       "<style scoped>\n",
       "    .dataframe tbody tr th:only-of-type {\n",
       "        vertical-align: middle;\n",
       "    }\n",
       "\n",
       "    .dataframe tbody tr th {\n",
       "        vertical-align: top;\n",
       "    }\n",
       "\n",
       "    .dataframe thead th {\n",
       "        text-align: right;\n",
       "    }\n",
       "</style>\n",
       "<table border=\"1\" class=\"dataframe\">\n",
       "  <thead>\n",
       "    <tr style=\"text-align: right;\">\n",
       "      <th></th>\n",
       "      <th>track_id</th>\n",
       "      <th>artist_name</th>\n",
       "      <th>track_name</th>\n",
       "      <th>album_name</th>\n",
       "      <th>genre_name</th>\n",
       "    </tr>\n",
       "  </thead>\n",
       "  <tbody>\n",
       "    <tr>\n",
       "      <th>0</th>\n",
       "      <td>26</td>\n",
       "      <td>Elizabeth &amp; the Catapult</td>\n",
       "      <td>Complimentary Me</td>\n",
       "      <td>Taller Children</td>\n",
       "      <td>pop</td>\n",
       "    </tr>\n",
       "    <tr>\n",
       "      <th>2</th>\n",
       "      <td>26</td>\n",
       "      <td>Elizabeth &amp; the Catapult</td>\n",
       "      <td>Complimentary Me</td>\n",
       "      <td>Taller Children</td>\n",
       "      <td>folk</td>\n",
       "    </tr>\n",
       "    <tr>\n",
       "      <th>4</th>\n",
       "      <td>38</td>\n",
       "      <td>Elizabeth &amp; the Catapult</td>\n",
       "      <td>Momma's Boy</td>\n",
       "      <td>Taller Children</td>\n",
       "      <td>pop</td>\n",
       "    </tr>\n",
       "    <tr>\n",
       "      <th>6</th>\n",
       "      <td>38</td>\n",
       "      <td>Elizabeth &amp; the Catapult</td>\n",
       "      <td>Momma's Boy</td>\n",
       "      <td>Taller Children</td>\n",
       "      <td>folk</td>\n",
       "    </tr>\n",
       "    <tr>\n",
       "      <th>8</th>\n",
       "      <td>135</td>\n",
       "      <td>Noisettes</td>\n",
       "      <td>Atticus</td>\n",
       "      <td>Wild Young Hearts</td>\n",
       "      <td>pop</td>\n",
       "    </tr>\n",
       "    <tr>\n",
       "      <th>11</th>\n",
       "      <td>136</td>\n",
       "      <td>Noisettes</td>\n",
       "      <td>24 Hours</td>\n",
       "      <td>Wild Young Hearts</td>\n",
       "      <td>pop</td>\n",
       "    </tr>\n",
       "    <tr>\n",
       "      <th>14</th>\n",
       "      <td>138</td>\n",
       "      <td>Noisettes</td>\n",
       "      <td>Don't Upset The Rhythm (Go Baby Go)</td>\n",
       "      <td>Wild Young Hearts</td>\n",
       "      <td>pop</td>\n",
       "    </tr>\n",
       "    <tr>\n",
       "      <th>16</th>\n",
       "      <td>138</td>\n",
       "      <td>Noisettes</td>\n",
       "      <td>Don't Upset The Rhythm (Go Baby Go)</td>\n",
       "      <td>Don't Upset The Rhythm</td>\n",
       "      <td>pop</td>\n",
       "    </tr>\n",
       "    <tr>\n",
       "      <th>17</th>\n",
       "      <td>138</td>\n",
       "      <td>Noisettes</td>\n",
       "      <td>Don't Upset The Rhythm (Go Baby Go)</td>\n",
       "      <td>Hits Of 2009</td>\n",
       "      <td>pop</td>\n",
       "    </tr>\n",
       "    <tr>\n",
       "      <th>18</th>\n",
       "      <td>138</td>\n",
       "      <td>Noisettes</td>\n",
       "      <td>Don't Upset The Rhythm (Go Baby Go)</td>\n",
       "      <td>Clubland Classix</td>\n",
       "      <td>pop</td>\n",
       "    </tr>\n",
       "  </tbody>\n",
       "</table>\n",
       "</div>"
      ],
      "text/plain": [
       "    track_id               artist_name                           track_name  \\\n",
       "0         26  Elizabeth & the Catapult                     Complimentary Me   \n",
       "2         26  Elizabeth & the Catapult                     Complimentary Me   \n",
       "4         38  Elizabeth & the Catapult                          Momma's Boy   \n",
       "6         38  Elizabeth & the Catapult                          Momma's Boy   \n",
       "8        135                 Noisettes                              Atticus   \n",
       "11       136                 Noisettes                             24 Hours   \n",
       "14       138                 Noisettes  Don't Upset The Rhythm (Go Baby Go)   \n",
       "16       138                 Noisettes  Don't Upset The Rhythm (Go Baby Go)   \n",
       "17       138                 Noisettes  Don't Upset The Rhythm (Go Baby Go)   \n",
       "18       138                 Noisettes  Don't Upset The Rhythm (Go Baby Go)   \n",
       "\n",
       "                album_name genre_name  \n",
       "0          Taller Children        pop  \n",
       "2          Taller Children       folk  \n",
       "4          Taller Children        pop  \n",
       "6          Taller Children       folk  \n",
       "8        Wild Young Hearts        pop  \n",
       "11       Wild Young Hearts        pop  \n",
       "14       Wild Young Hearts        pop  \n",
       "16  Don't Upset The Rhythm        pop  \n",
       "17            Hits Of 2009        pop  \n",
       "18        Clubland Classix        pop  "
      ]
     },
     "execution_count": 11,
     "metadata": {},
     "output_type": "execute_result"
    }
   ],
   "source": [
    "# Выполняем предобработку данных для удобства работы\n",
    "tracks_data_exploded = tracks.explode('artists').explode('genres').explode('albums')\n",
    "\n",
    "tracks_data_full = tracks_data_exploded.merge(track_сatalog, left_on='track_id', right_on='id', how='left')\n",
    "tracks_data_full.rename(columns={'name': 'track_name'}, inplace=True)\n",
    "\n",
    "tracks_albums = tracks_data_full.merge(album_сatalog, left_on='albums', right_on='id', how='left')\n",
    "tracks_albums.rename(columns={'name': 'album_name'}, inplace=True)\n",
    "\n",
    "tracks_albums_artists = tracks_albums.merge(artist_сatalog, left_on='artists', right_on='id', how='left')\n",
    "tracks_albums_artists.rename(columns={'name': 'artist_name'}, inplace=True)\n",
    "tracks_albums_artists = tracks_albums_artists[[\"track_id\", \"artist_name\", \"track_name\", \"album_name\", \"genres\"]]\n",
    "\n",
    "tracks_albums_artists_genres = tracks_albums_artists.merge(genre_сatalog, left_on='genres', right_on='id', how='left')\n",
    "tracks_albums_artists_genres.rename(columns={'name': 'genre_name'}, inplace=True)\n",
    "\n",
    "items = tracks_albums_artists_genres[[\"track_id\", \"artist_name\", \"track_name\", \"album_name\", \"genre_name\"]].drop_duplicates()\n",
    "items.head(10)"
   ]
  },
  {
   "cell_type": "code",
   "execution_count": 12,
   "id": "72887aef",
   "metadata": {},
   "outputs": [],
   "source": [
    "events = interactions"
   ]
  },
  {
   "cell_type": "markdown",
   "id": "318b573a-9e2d-4808-95db-60cfb8bbdb73",
   "metadata": {
    "slideshow": {
     "slide_type": ""
    },
    "tags": []
   },
   "source": [
    "# Выводы"
   ]
  },
  {
   "cell_type": "markdown",
   "id": "caa96e12-36a8-4401-8f11-98627a49ae9d",
   "metadata": {},
   "source": [
    "Приведём выводы по первому знакомству с данными:\n",
    "- есть ли с данными явные проблемы,\n",
    "- какие корректирующие действия (в целом) были предприняты."
   ]
  },
  {
   "cell_type": "markdown",
   "id": "6fb10a43",
   "metadata": {},
   "source": [
    "Мои выводы  \n",
    "В данных о треках некоторые строки с альбомами, артистами или жанрами были не заполнены  \n",
    "Эти данные не дают нам полезной информации, поэтому решено удалить эти строки  \n",
    "Кроме того в catalog_names смешаны разные сущности, это не существенная проблема  \n",
    "Для удобства работы объединим данные в catalog_names с данными о треках, это даст нам осмысленные сущности для дальнейшего анализа и работы  "
   ]
  },
  {
   "cell_type": "markdown",
   "id": "bd2e3205",
   "metadata": {},
   "source": [
    "<b>Комментарий от ревьюера v1</b>\n",
    "<div class=\"alert alert-block alert-success\">\n",
    "✔️ Первичный анализ данных проведен!\n",
    "</div>\n",
    "\n",
    "\n",
    "<div class=\"alert alert-warning\">\n",
    "    \n",
    "⚠️ Возможно стоило изменить типы данных для некоторых колонок с `int32`/ `int64` в `int16`. Это позволит сохранить память.\n",
    "</div>"
   ]
  },
  {
   "cell_type": "markdown",
   "id": "d0c987a9",
   "metadata": {},
   "source": [
    "<div class=\"alert alert-block alert-info\">\n",
    "<b>Комментарий студента:</b> \n",
    "Хорошая идея с int16. <br>\n",
    "Для track_id максимальное значение 101521819, для user_id максимальное значение 1374582.<br>\n",
    "Поэтому можем использовать тип не менее int32.<br>\n",
    "Рекомендация выполнена<br>\n",
    "</div>"
   ]
  },
  {
   "cell_type": "markdown",
   "id": "b984ff48",
   "metadata": {},
   "source": [
    "<b>Комментарий от ревьюера v2</b>\n",
    "<div class=\"alert alert-block alert-success\">\n",
    "✔️ Принято! Иногда это помогает сжать данные.\n",
    "</div>"
   ]
  },
  {
   "cell_type": "markdown",
   "id": "7bc3296b-eba6-4333-a78d-b9304aa87e3d",
   "metadata": {},
   "source": [
    "# === ЭТАП 2 ==="
   ]
  },
  {
   "cell_type": "markdown",
   "id": "68e73960-fd38-4e15-8db0-9a25c35dfd25",
   "metadata": {},
   "source": [
    "# EDA"
   ]
  },
  {
   "cell_type": "code",
   "execution_count": 24,
   "id": "f3223f4e",
   "metadata": {},
   "outputs": [
    {
     "name": "stdout",
     "output_type": "stream",
     "text": [
      "Число прослушиваний: 222629898\n",
      "Число уникальных прослушанных треков 1000000\n"
     ]
    }
   ],
   "source": [
    "print(f\"Число прослушиваний: {len(events)}\")\n",
    "uniq_tracks =  events['track_id'].nunique()\n",
    "print(f\"Число уникальных прослушанных треков {uniq_tracks}\")"
   ]
  },
  {
   "cell_type": "code",
   "execution_count": 25,
   "id": "7ad813fb",
   "metadata": {},
   "outputs": [
    {
     "name": "stdout",
     "output_type": "stream",
     "text": [
      "Число треков: 980977\n",
      "Число уникальных треков: 980977\n"
     ]
    }
   ],
   "source": [
    "print(f\"Число треков: {len(tracks)}\")\n",
    "uniq_tracks =  tracks['track_id'].nunique()\n",
    "print(f\"Число уникальных треков: {uniq_tracks}\")"
   ]
  },
  {
   "cell_type": "markdown",
   "id": "a39ef8b3",
   "metadata": {},
   "source": [
    "Распределение количества прослушанных треков"
   ]
  },
  {
   "cell_type": "code",
   "execution_count": 26,
   "id": "a9dd16e7",
   "metadata": {},
   "outputs": [
    {
     "name": "stdout",
     "output_type": "stream",
     "text": [
      "                  category   count\n",
      "0  Наименее прослушиваемые  838518\n",
      "1     Редко прослушиваемые  147646\n",
      "2     Часто прослушиваемые   13254\n",
      "3         Самые популярные     582\n"
     ]
    }
   ],
   "source": [
    "# Определяем треки с наибольшим числом прослушиваний\n",
    "grouped_interactions = events.groupby('track_id').size().reset_index(name='count')\n",
    "sorted_interactions = grouped_interactions.sort_values(by='count', ascending=False)\n",
    "\n",
    "# Посчитаем сумму процент прослушиваний для каждого трека\n",
    "sorted_interactions['pers'] = sorted_interactions['count']/len(interactions)*100\n",
    "sorted_interactions['cumsum'] = sorted_interactions['pers'].cumsum()\n",
    "\n",
    "def categorize_track(row):\n",
    "    if row['cumsum'] > 90 :\n",
    "        return 'Наименее прослушиваемые'\n",
    "    elif row['cumsum'] > 50:\n",
    "        return 'Редко прослушиваемые'\n",
    "    elif row['cumsum'] > 10:\n",
    "        return 'Часто прослушиваемые'\n",
    "    else:\n",
    "        return 'Самые популярные'\n",
    "\n",
    "# Распределим на условные бины по количеству прослушиваний\n",
    "sorted_interactions['category'] = sorted_interactions.apply(categorize_track, axis=1)\n",
    "category_counts = sorted_interactions['category'].value_counts().reset_index()\n",
    "category_counts.columns = ['category', 'count']\n",
    "\n",
    "print(category_counts)"
   ]
  },
  {
   "cell_type": "markdown",
   "id": "66626b5a",
   "metadata": {},
   "source": [
    "Итого 582 трека (0.05%) составляют 10% всех прослушиваний  \n",
    "За исключением наиболее поопулярных 40% прослушиваний приходится на 13254 трека (1.32%)  \n",
    "Еще 40% прослушиваний приходится на 147646 трека (14.76%)  \n",
    "На оставшиеся 838518(83.85%) треков приходится приходится наименьшее число прослушиваний  "
   ]
  },
  {
   "cell_type": "markdown",
   "id": "8c91c802",
   "metadata": {},
   "source": [
    "Наиболее популярные треки"
   ]
  },
  {
   "cell_type": "code",
   "execution_count": 28,
   "id": "013dfa54",
   "metadata": {},
   "outputs": [
    {
     "data": {
      "text/html": [
       "<div>\n",
       "<style scoped>\n",
       "    .dataframe tbody tr th:only-of-type {\n",
       "        vertical-align: middle;\n",
       "    }\n",
       "\n",
       "    .dataframe tbody tr th {\n",
       "        vertical-align: top;\n",
       "    }\n",
       "\n",
       "    .dataframe thead th {\n",
       "        text-align: right;\n",
       "    }\n",
       "</style>\n",
       "<table border=\"1\" class=\"dataframe\">\n",
       "  <thead>\n",
       "    <tr style=\"text-align: right;\">\n",
       "      <th></th>\n",
       "      <th>track_id</th>\n",
       "      <th>artist_name</th>\n",
       "      <th>track_name</th>\n",
       "      <th>album_name</th>\n",
       "      <th>genre_name</th>\n",
       "    </tr>\n",
       "  </thead>\n",
       "  <tbody>\n",
       "    <tr>\n",
       "      <th>0</th>\n",
       "      <td>53404</td>\n",
       "      <td>Nirvana</td>\n",
       "      <td>Smells Like Teen Spirit</td>\n",
       "      <td>Nevermind</td>\n",
       "      <td>alternative</td>\n",
       "    </tr>\n",
       "    <tr>\n",
       "      <th>1</th>\n",
       "      <td>53404</td>\n",
       "      <td>Nirvana</td>\n",
       "      <td>Smells Like Teen Spirit</td>\n",
       "      <td>Nirvana</td>\n",
       "      <td>alternative</td>\n",
       "    </tr>\n",
       "    <tr>\n",
       "      <th>10</th>\n",
       "      <td>53404</td>\n",
       "      <td>Nirvana</td>\n",
       "      <td>Smells Like Teen Spirit</td>\n",
       "      <td>Skiing Music</td>\n",
       "      <td>alternative</td>\n",
       "    </tr>\n",
       "    <tr>\n",
       "      <th>12</th>\n",
       "      <td>53404</td>\n",
       "      <td>Nirvana</td>\n",
       "      <td>Smells Like Teen Spirit</td>\n",
       "      <td>Smells Like Teen Spirit / In Bloom / On A Plai...</td>\n",
       "      <td>alternative</td>\n",
       "    </tr>\n",
       "    <tr>\n",
       "      <th>16</th>\n",
       "      <td>53404</td>\n",
       "      <td>Nirvana</td>\n",
       "      <td>Smells Like Teen Spirit</td>\n",
       "      <td>Nevermind</td>\n",
       "      <td>rock</td>\n",
       "    </tr>\n",
       "    <tr>\n",
       "      <th>17</th>\n",
       "      <td>53404</td>\n",
       "      <td>Nirvana</td>\n",
       "      <td>Smells Like Teen Spirit</td>\n",
       "      <td>Nirvana</td>\n",
       "      <td>rock</td>\n",
       "    </tr>\n",
       "    <tr>\n",
       "      <th>26</th>\n",
       "      <td>53404</td>\n",
       "      <td>Nirvana</td>\n",
       "      <td>Smells Like Teen Spirit</td>\n",
       "      <td>Skiing Music</td>\n",
       "      <td>rock</td>\n",
       "    </tr>\n",
       "    <tr>\n",
       "      <th>28</th>\n",
       "      <td>53404</td>\n",
       "      <td>Nirvana</td>\n",
       "      <td>Smells Like Teen Spirit</td>\n",
       "      <td>Smells Like Teen Spirit / In Bloom / On A Plai...</td>\n",
       "      <td>rock</td>\n",
       "    </tr>\n",
       "    <tr>\n",
       "      <th>32</th>\n",
       "      <td>53404</td>\n",
       "      <td>Nirvana</td>\n",
       "      <td>Smells Like Teen Spirit</td>\n",
       "      <td>Nevermind</td>\n",
       "      <td>allrock</td>\n",
       "    </tr>\n",
       "    <tr>\n",
       "      <th>33</th>\n",
       "      <td>53404</td>\n",
       "      <td>Nirvana</td>\n",
       "      <td>Smells Like Teen Spirit</td>\n",
       "      <td>Nirvana</td>\n",
       "      <td>allrock</td>\n",
       "    </tr>\n",
       "    <tr>\n",
       "      <th>42</th>\n",
       "      <td>53404</td>\n",
       "      <td>Nirvana</td>\n",
       "      <td>Smells Like Teen Spirit</td>\n",
       "      <td>Skiing Music</td>\n",
       "      <td>allrock</td>\n",
       "    </tr>\n",
       "    <tr>\n",
       "      <th>44</th>\n",
       "      <td>53404</td>\n",
       "      <td>Nirvana</td>\n",
       "      <td>Smells Like Teen Spirit</td>\n",
       "      <td>Smells Like Teen Spirit / In Bloom / On A Plai...</td>\n",
       "      <td>allrock</td>\n",
       "    </tr>\n",
       "    <tr>\n",
       "      <th>48</th>\n",
       "      <td>33311009</td>\n",
       "      <td>Imagine Dragons</td>\n",
       "      <td>Believer</td>\n",
       "      <td>Shape Of Pop</td>\n",
       "      <td>rock</td>\n",
       "    </tr>\n",
       "    <tr>\n",
       "      <th>49</th>\n",
       "      <td>33311009</td>\n",
       "      <td>Imagine Dragons</td>\n",
       "      <td>Believer</td>\n",
       "      <td>NOW That's What I Call Music</td>\n",
       "      <td>rock</td>\n",
       "    </tr>\n",
       "    <tr>\n",
       "      <th>50</th>\n",
       "      <td>33311009</td>\n",
       "      <td>Imagine Dragons</td>\n",
       "      <td>Believer</td>\n",
       "      <td>Evolve</td>\n",
       "      <td>rock</td>\n",
       "    </tr>\n",
       "    <tr>\n",
       "      <th>51</th>\n",
       "      <td>33311009</td>\n",
       "      <td>Imagine Dragons</td>\n",
       "      <td>Believer</td>\n",
       "      <td>Best Of 2017</td>\n",
       "      <td>rock</td>\n",
       "    </tr>\n",
       "    <tr>\n",
       "      <th>53</th>\n",
       "      <td>33311009</td>\n",
       "      <td>Imagine Dragons</td>\n",
       "      <td>Believer</td>\n",
       "      <td>Rock Motivation</td>\n",
       "      <td>rock</td>\n",
       "    </tr>\n",
       "    <tr>\n",
       "      <th>57</th>\n",
       "      <td>33311009</td>\n",
       "      <td>Imagine Dragons</td>\n",
       "      <td>Believer</td>\n",
       "      <td>Indie Weekend</td>\n",
       "      <td>rock</td>\n",
       "    </tr>\n",
       "    <tr>\n",
       "      <th>58</th>\n",
       "      <td>33311009</td>\n",
       "      <td>Imagine Dragons</td>\n",
       "      <td>Believer</td>\n",
       "      <td>Best Pop Spin Class Workout Songs</td>\n",
       "      <td>rock</td>\n",
       "    </tr>\n",
       "    <tr>\n",
       "      <th>59</th>\n",
       "      <td>33311009</td>\n",
       "      <td>Imagine Dragons</td>\n",
       "      <td>Believer</td>\n",
       "      <td>New Year New Start</td>\n",
       "      <td>rock</td>\n",
       "    </tr>\n",
       "    <tr>\n",
       "      <th>60</th>\n",
       "      <td>33311009</td>\n",
       "      <td>Imagine Dragons</td>\n",
       "      <td>Believer</td>\n",
       "      <td>2019 Mix</td>\n",
       "      <td>rock</td>\n",
       "    </tr>\n",
       "    <tr>\n",
       "      <th>61</th>\n",
       "      <td>33311009</td>\n",
       "      <td>Imagine Dragons</td>\n",
       "      <td>Believer</td>\n",
       "      <td>AFTER Ski Pt.1</td>\n",
       "      <td>rock</td>\n",
       "    </tr>\n",
       "    <tr>\n",
       "      <th>62</th>\n",
       "      <td>33311009</td>\n",
       "      <td>Imagine Dragons</td>\n",
       "      <td>Believer</td>\n",
       "      <td>This Is Rock Music</td>\n",
       "      <td>rock</td>\n",
       "    </tr>\n",
       "    <tr>\n",
       "      <th>63</th>\n",
       "      <td>33311009</td>\n",
       "      <td>Imagine Dragons</td>\n",
       "      <td>Believer</td>\n",
       "      <td>New Rock Hits</td>\n",
       "      <td>rock</td>\n",
       "    </tr>\n",
       "    <tr>\n",
       "      <th>64</th>\n",
       "      <td>33311009</td>\n",
       "      <td>Imagine Dragons</td>\n",
       "      <td>Believer</td>\n",
       "      <td>Home Office Party</td>\n",
       "      <td>rock</td>\n",
       "    </tr>\n",
       "    <tr>\n",
       "      <th>65</th>\n",
       "      <td>33311009</td>\n",
       "      <td>Imagine Dragons</td>\n",
       "      <td>Believer</td>\n",
       "      <td>Summer Is Coming</td>\n",
       "      <td>rock</td>\n",
       "    </tr>\n",
       "    <tr>\n",
       "      <th>66</th>\n",
       "      <td>33311009</td>\n",
       "      <td>Imagine Dragons</td>\n",
       "      <td>Believer</td>\n",
       "      <td>Class Of '17</td>\n",
       "      <td>rock</td>\n",
       "    </tr>\n",
       "    <tr>\n",
       "      <th>67</th>\n",
       "      <td>33311009</td>\n",
       "      <td>Imagine Dragons</td>\n",
       "      <td>Believer</td>\n",
       "      <td>Summer Holiday</td>\n",
       "      <td>rock</td>\n",
       "    </tr>\n",
       "    <tr>\n",
       "      <th>68</th>\n",
       "      <td>33311009</td>\n",
       "      <td>Imagine Dragons</td>\n",
       "      <td>Believer</td>\n",
       "      <td>Tik Tock Hits</td>\n",
       "      <td>rock</td>\n",
       "    </tr>\n",
       "    <tr>\n",
       "      <th>69</th>\n",
       "      <td>33311009</td>\n",
       "      <td>Imagine Dragons</td>\n",
       "      <td>Believer</td>\n",
       "      <td>Cocktail Bar</td>\n",
       "      <td>rock</td>\n",
       "    </tr>\n",
       "  </tbody>\n",
       "</table>\n",
       "</div>"
      ],
      "text/plain": [
       "    track_id      artist_name               track_name  \\\n",
       "0      53404          Nirvana  Smells Like Teen Spirit   \n",
       "1      53404          Nirvana  Smells Like Teen Spirit   \n",
       "10     53404          Nirvana  Smells Like Teen Spirit   \n",
       "12     53404          Nirvana  Smells Like Teen Spirit   \n",
       "16     53404          Nirvana  Smells Like Teen Spirit   \n",
       "17     53404          Nirvana  Smells Like Teen Spirit   \n",
       "26     53404          Nirvana  Smells Like Teen Spirit   \n",
       "28     53404          Nirvana  Smells Like Teen Spirit   \n",
       "32     53404          Nirvana  Smells Like Teen Spirit   \n",
       "33     53404          Nirvana  Smells Like Teen Spirit   \n",
       "42     53404          Nirvana  Smells Like Teen Spirit   \n",
       "44     53404          Nirvana  Smells Like Teen Spirit   \n",
       "48  33311009  Imagine Dragons                 Believer   \n",
       "49  33311009  Imagine Dragons                 Believer   \n",
       "50  33311009  Imagine Dragons                 Believer   \n",
       "51  33311009  Imagine Dragons                 Believer   \n",
       "53  33311009  Imagine Dragons                 Believer   \n",
       "57  33311009  Imagine Dragons                 Believer   \n",
       "58  33311009  Imagine Dragons                 Believer   \n",
       "59  33311009  Imagine Dragons                 Believer   \n",
       "60  33311009  Imagine Dragons                 Believer   \n",
       "61  33311009  Imagine Dragons                 Believer   \n",
       "62  33311009  Imagine Dragons                 Believer   \n",
       "63  33311009  Imagine Dragons                 Believer   \n",
       "64  33311009  Imagine Dragons                 Believer   \n",
       "65  33311009  Imagine Dragons                 Believer   \n",
       "66  33311009  Imagine Dragons                 Believer   \n",
       "67  33311009  Imagine Dragons                 Believer   \n",
       "68  33311009  Imagine Dragons                 Believer   \n",
       "69  33311009  Imagine Dragons                 Believer   \n",
       "\n",
       "                                           album_name   genre_name  \n",
       "0                                           Nevermind  alternative  \n",
       "1                                             Nirvana  alternative  \n",
       "10                                       Skiing Music  alternative  \n",
       "12  Smells Like Teen Spirit / In Bloom / On A Plai...  alternative  \n",
       "16                                          Nevermind         rock  \n",
       "17                                            Nirvana         rock  \n",
       "26                                       Skiing Music         rock  \n",
       "28  Smells Like Teen Spirit / In Bloom / On A Plai...         rock  \n",
       "32                                          Nevermind      allrock  \n",
       "33                                            Nirvana      allrock  \n",
       "42                                       Skiing Music      allrock  \n",
       "44  Smells Like Teen Spirit / In Bloom / On A Plai...      allrock  \n",
       "48                                       Shape Of Pop         rock  \n",
       "49                       NOW That's What I Call Music         rock  \n",
       "50                                             Evolve         rock  \n",
       "51                                       Best Of 2017         rock  \n",
       "53                                    Rock Motivation         rock  \n",
       "57                                      Indie Weekend         rock  \n",
       "58                  Best Pop Spin Class Workout Songs         rock  \n",
       "59                                 New Year New Start         rock  \n",
       "60                                           2019 Mix         rock  \n",
       "61                                     AFTER Ski Pt.1         rock  \n",
       "62                                 This Is Rock Music         rock  \n",
       "63                                      New Rock Hits         rock  \n",
       "64                                  Home Office Party         rock  \n",
       "65                                   Summer Is Coming         rock  \n",
       "66                                       Class Of '17         rock  \n",
       "67                                     Summer Holiday         rock  \n",
       "68                                      Tik Tock Hits         rock  \n",
       "69                                       Cocktail Bar         rock  "
      ]
     },
     "execution_count": 28,
     "metadata": {},
     "output_type": "execute_result"
    }
   ],
   "source": [
    "# Выберем треки у которых категория Самые популярные и Часто прослушиваемые\n",
    "popular_tracks = sorted_interactions[sorted_interactions['category'].isin(['Самые популярные'])]\n",
    "# Объединяем данные о треках и о прослушиваниях\n",
    "tracks_data = popular_tracks.merge(tracks, on='track_id', how='inner')\n",
    "# Разворачиваем списки artists, albums и genres\n",
    "tracks_data_exploded = tracks_data.explode('artists').explode('genres').explode('albums')\n",
    "\n",
    "#Данные в catalog_names разделяем по сущностям\n",
    "genre_сatalog = catalog_names[catalog_names['type'] == 'genre']\n",
    "artist_сatalog = catalog_names[catalog_names['type'] == 'artist']\n",
    "track_сatalog = catalog_names[catalog_names['type'] == 'track']\n",
    "album_сatalog = catalog_names[catalog_names['type'] == 'album']\n",
    "\n",
    "tracks_data_full = tracks_data_exploded.merge(track_сatalog, left_on='track_id', right_on='id', how='left')\n",
    "tracks_data_full.rename(columns={'name': 'track_name'}, inplace=True)\n",
    "\n",
    "tracks_albums = tracks_data_full.merge(album_сatalog, left_on='albums', right_on='id', how='left')\n",
    "tracks_albums.rename(columns={'name': 'album_name'}, inplace=True)\n",
    "\n",
    "tracks_albums_artists = tracks_albums.merge(artist_сatalog, left_on='artists', right_on='id', how='left')\n",
    "tracks_albums_artists.rename(columns={'name': 'artist_name'}, inplace=True)\n",
    "tracks_albums_artists = tracks_albums_artists[[\"track_id\", \"artist_name\", \"track_name\", \"album_name\", \"genres\"]]\n",
    "\n",
    "tracks_albums_artists_genres = tracks_albums_artists.merge(genre_сatalog, left_on='genres', right_on='id', how='left')\n",
    "tracks_albums_artists_genres.rename(columns={'name': 'genre_name'}, inplace=True)\n",
    "\n",
    "tracks_albums_artists_genres = tracks_albums_artists_genres[[\"track_id\", \"artist_name\", \"track_name\", \"album_name\", \"genre_name\"]].drop_duplicates()\n",
    "tracks_albums_artists_genres.head(30)"
   ]
  },
  {
   "cell_type": "markdown",
   "id": "464ce473",
   "metadata": {},
   "source": [
    "<b>Комментарий от ревьюера v1</b>\n",
    "<div class=\"alert alert-block alert-success\">\n",
    "✔️ Отлично, выглядит логично!\n",
    "</div>\n",
    "\n",
    "<div class=\"alert alert-warning\">\n",
    "    \n",
    "⚠️ `album_name` как-будно не всегда именно `album`.. \n",
    "</div>"
   ]
  },
  {
   "cell_type": "markdown",
   "id": "a3f04f3c",
   "metadata": {},
   "source": [
    "<div class=\"alert alert-block alert-info\">\n",
    "<b>Комментарий студента:</b> \n",
    "Как будто да <br>\n",
    "Но похоже что у сервиса нет разницы между альбомами как сборниками артиста и \"альбомом\" как условным плейлистом - если это так то боюсь без глубокой переработки очистить данные будет сложно <br>\n",
    "</div>"
   ]
  },
  {
   "cell_type": "markdown",
   "id": "e29b29d5",
   "metadata": {},
   "source": [
    "<b>Комментарий от ревьюера v2</b>\n",
    "<div class=\"alert alert-block alert-success\">\n",
    "✔️ ОК, полезно обращать внимание на такие моменты в данных.\n",
    "</div>"
   ]
  },
  {
   "cell_type": "markdown",
   "id": "b1c32a5a-d3be-4f96-8dd9-f7860951020c",
   "metadata": {},
   "source": [
    "Наиболее популярные жанры"
   ]
  },
  {
   "cell_type": "code",
   "execution_count": 29,
   "id": "1bc50491-9235-4d3c-a6c2-297f7c05a959",
   "metadata": {},
   "outputs": [
    {
     "data": {
      "text/plain": [
       "genre_name\n",
       "pop               6060\n",
       "allrock           2321\n",
       "rock              2151\n",
       "dance             1429\n",
       "electronics       1204\n",
       "indie             1043\n",
       "alternative        798\n",
       "rap                703\n",
       "foreignrap         580\n",
       "hardrock           334\n",
       "soundtrack         299\n",
       "films              291\n",
       "ruspop             192\n",
       "jazz               185\n",
       "tradjazz           185\n",
       "folk               172\n",
       "latinfolk          168\n",
       "rnb                160\n",
       "newwave            157\n",
       "rusrap             123\n",
       "metal              119\n",
       "punk                99\n",
       "numetal             75\n",
       "rusrock             65\n",
       "classicalmusic      42\n",
       "modern              42\n",
       "soul                40\n",
       "house               38\n",
       "foreignbard         34\n",
       "bard                34\n",
       "estrada             23\n",
       "local-indie         15\n",
       "classicmetal        13\n",
       "industrial          10\n",
       "relax                7\n",
       "newage               6\n",
       "ukrrock              4\n",
       "funk                 3\n",
       "folkrock             2\n",
       "caucasian            2\n",
       "prog                 2\n",
       "eastern              2\n",
       "ska                  1\n",
       "techno               1\n",
       "country              1\n",
       "reggae               1\n",
       "Name: count, dtype: int64"
      ]
     },
     "execution_count": 29,
     "metadata": {},
     "output_type": "execute_result"
    }
   ],
   "source": [
    "popular_genres = tracks_albums_artists_genres['genre_name'].value_counts()\n",
    "popular_genres"
   ]
  },
  {
   "cell_type": "code",
   "execution_count": 32,
   "id": "e8f80751",
   "metadata": {},
   "outputs": [
    {
     "name": "stdout",
     "output_type": "stream",
     "text": [
      "         user_id  unique_tracks_count\n",
      "398587    398979                16637\n",
      "1199698  1200889                15392\n",
      "590301    590868                15136\n",
      "730511    731216                13223\n",
      "339385    339714                12768\n",
      "...          ...                  ...\n",
      "653241    653874                    1\n",
      "108129    108229                    1\n",
      "1018302  1019304                    1\n",
      "356700    357048                    1\n",
      "73573      73645                    1\n",
      "\n",
      "[1373221 rows x 2 columns]\n"
     ]
    }
   ],
   "source": [
    "# Сколько уникальных треков прослушивает каждый пользователь\n",
    "tracks_per_user = events.groupby('user_id')['track_id'].nunique().reset_index()\n",
    "tracks_per_user.columns = ['user_id', 'unique_tracks_count']\n",
    "tracks_per_user = tracks_per_user.sort_values(by='unique_tracks_count', ascending=False)\n",
    "print(tracks_per_user)"
   ]
  },
  {
   "cell_type": "code",
   "execution_count": 45,
   "id": "4beaebc4",
   "metadata": {},
   "outputs": [
    {
     "name": "stdout",
     "output_type": "stream",
     "text": [
      "  track_category  user_count  percentage\n",
      "1     >10 tracks      886838   64.580865\n",
      "2    >100 tracks      439126   31.977810\n",
      "4     >1k tracks       33729    2.456196\n",
      "0     <10 tracks       13509    0.983746\n",
      "3    >10k tracks          19    0.001384\n"
     ]
    }
   ],
   "source": [
    "# разобьем на бины\n",
    "def categorize_tracks(count):\n",
    "    if count > 10000:\n",
    "        return '>10k tracks'\n",
    "    elif count > 1000:\n",
    "        return '>1k tracks'\n",
    "    elif count > 100:\n",
    "        return '>100 tracks'\n",
    "    elif count > 10:\n",
    "        return '>10 tracks'\n",
    "    else:\n",
    "        return '<10 tracks'\n",
    "\n",
    "# Применение функции для создания нового столбца с категориями\n",
    "tracks_per_user['track_category'] = tracks_per_user['unique_tracks_count'].apply(categorize_tracks)\n",
    "# Агрегация по категориям\n",
    "category_counts = tracks_per_user.groupby('track_category').size().reset_index(name='user_count')\n",
    "category_counts = category_counts.sort_values(by='track_category', ascending=False)\n",
    "total_users = tracks_per_user['user_id'].nunique()\n",
    "category_counts['percentage'] = (category_counts['user_count'] / total_users) * 100\n",
    "\n",
    "# Сортировка по количеству пользователей в порядке убывания\n",
    "category_counts = category_counts.sort_values(by='user_count', ascending=False)\n",
    "\n",
    "# Вывод результата\n",
    "print(category_counts)"
   ]
  },
  {
   "cell_type": "markdown",
   "id": "b812eafd",
   "metadata": {},
   "source": [
    "<div class=\"alert alert-block alert-info\">\n",
    "<b>Комментарий студента:</b> \n",
    "Интересный результат <br>\n",
    "64% пользователей прослушали от 10 до 100 треков <br>\n",
    "31% пользователей прослушали от 100 до 1000 треков <br>\n",
    "Это две основные категории пользователей сервиса\n",
    "</div>"
   ]
  },
  {
   "cell_type": "markdown",
   "id": "23aef2ef",
   "metadata": {},
   "source": [
    "<b>Комментарий от ревьюера v2</b>\n",
    "<div class=\"alert alert-block alert-success\">\n",
    "✔️ Отличный анализ!\n",
    "</div>"
   ]
  },
  {
   "cell_type": "markdown",
   "id": "42ba25ea",
   "metadata": {},
   "source": [
    "<b>Комментарий от ревьюера v1</b>\n",
    "<div class=\"alert alert-block alert-success\">\n",
    "✔️ Отлично!\n",
    "</div>"
   ]
  },
  {
   "cell_type": "markdown",
   "id": "15254e66-e80e-473b-ba24-abebea5ccac7",
   "metadata": {},
   "source": [
    "Треки, которые никто не прослушал"
   ]
  },
  {
   "cell_type": "code",
   "execution_count": null,
   "id": "50bc50c6-2d83-4c7e-97fa-3e7627978438",
   "metadata": {},
   "outputs": [
    {
     "ename": "",
     "evalue": "",
     "output_type": "error",
     "traceback": [
      "\u001b[1;31mПри выполнении кода в текущей ячейке или предыдущей ячейке ядро аварийно завершило работу. \n",
      "\u001b[1;31mПроверьте код в ячейках, чтобы определить возможную причину сбоя. \n",
      "\u001b[1;31mЩелкните <a href='https://aka.ms/vscodeJupyterKernelCrash'>здесь</a>, чтобы получить дополнительные сведения. \n",
      "\u001b[1;31mПодробнее см. в <a href='command:jupyter.viewOutput'>журнале Jupyter</a>."
     ]
    }
   ],
   "source": [
    "\n",
    "# Боюсь мы никогда не узнаем, ибо ядро код ниже просто не вывозит(((((("
   ]
  },
  {
   "cell_type": "code",
   "execution_count": 46,
   "id": "3ea85b00",
   "metadata": {},
   "outputs": [
    {
     "name": "stdout",
     "output_type": "stream",
     "text": [
      "Processing Month: 2022-07\n"
     ]
    },
    {
     "ename": "",
     "evalue": "",
     "output_type": "error",
     "traceback": [
      "\u001b[1;31mПри выполнении кода в текущей ячейке или предыдущей ячейке ядро аварийно завершило работу. \n",
      "\u001b[1;31mПроверьте код в ячейках, чтобы определить возможную причину сбоя. \n",
      "\u001b[1;31mЩелкните <a href='https://aka.ms/vscodeJupyterKernelCrash'>здесь</a>, чтобы получить дополнительные сведения. \n",
      "\u001b[1;31mПодробнее см. в <a href='command:jupyter.viewOutput'>журнале Jupyter</a>."
     ]
    }
   ],
   "source": [
    "# Преобразуем started_at в формат даты\n",
    "events['started_at'] = pd.to_datetime(events['started_at'])\n",
    "\n",
    "# Создаем директорию для сохранения паркетов\n",
    "output_dir = \"parquet_results\"\n",
    "os.makedirs(output_dir, exist_ok=True)\n",
    "\n",
    "# Группируем данные по месяцам\n",
    "events['year_month'] = events['started_at'].dt.to_period('M')\n",
    "\n",
    "# Получаем уникальные месяцы\n",
    "unique_months = events['year_month'].unique()\n",
    "\n",
    "results = []  # Список для хранения результатов\n",
    "\n",
    "for month in unique_months:\n",
    "    print(f\"Processing Month: {month}\")\n",
    "    \n",
    "    # Получаем данные за текущий месяц\n",
    "    chunk = events[events['year_month'] == month]\n",
    "    \n",
    "    # Выполняем левое объединение с текущим чанком\n",
    "    merged_items = items.merge(chunk[['track_id']], on='track_id', how='left', indicator=True)\n",
    "    \n",
    "    # Фильтруем строки, где нет соединения с events\n",
    "    no_listenings_chunk = merged_items[merged_items['_merge'] == 'left_only']\n",
    "    \n",
    "    # Сохраняем результат в Parquet\n",
    "    parquet_file_path = os.path.join(output_dir, f'no_listenings_{month}.parquet')\n",
    "    no_listenings_chunk[['track_id', 'name']].to_parquet(parquet_file_path)\n",
    "    \n",
    "    results.append(no_listenings_chunk)  # Добавляем результат в список\n",
    "\n",
    "# Чтение всех паркетов и объединение в один DataFrame\n",
    "final_result = pd.concat([pd.read_parquet(os.path.join(output_dir, f'no_listenings_{month}.parquet')) for month in unique_months]).reset_index(drop=True)\n",
    "\n",
    "# Вывод результата\n",
    "print(final_result)"
   ]
  },
  {
   "cell_type": "markdown",
   "id": "8ddb09d7",
   "metadata": {},
   "source": [
    "<div class=\"alert alert-block alert-info\">\n",
    "<b>Комментарий студента:</b> \n",
    "Выводы <br>\n",
    "Наиболее популярные жанры у пользователей сервиса: <br>\n",
    "pop               6060 <br>\n",
    "allrock           2321 <br>\n",
    "rock              2151 <br>\n",
    "dance             1429 <br>\n",
    "electronics       1204 <br>\n",
    "indie             1043 <br>\n",
    "alternative        798 <br>\n",
    "\n",
    "Наибольшую популярность имеют всего 582 треков что составялет 0,05% от всех композиций, представленных на платформе <br>\n",
    "Они и еще 13254 треков вместе приносят более половины прослушиваний, хотя и составляют менее 1,5% всех треков <br>\n",
    "Большинство пользователей слушают до 100 уникальных треков, 1/3 слушателей до 1000 уникальных треков <br> \n",
    "</div>"
   ]
  },
  {
   "cell_type": "markdown",
   "id": "ccde296f",
   "metadata": {},
   "source": [
    "<b>Комментарий от ревьюера v2</b>\n",
    "<div class=\"alert alert-block alert-success\">\n",
    "✔️ Отлично!\n",
    "</div>"
   ]
  },
  {
   "cell_type": "markdown",
   "id": "4b0bcb6d",
   "metadata": {},
   "source": [
    "<b>Комментарий от ревьюера v1</b>\n",
    "\n",
    "<div class=\"alert alert-block alert-success\">\n",
    "✔️ EDA проведен, отлично!\n",
    "</div>\n",
    "\n",
    "<div class=\"alert alert-warning\">\n",
    "⚠️ Не хватает распределения количества пользователей в зависимости от числа прослушенных треков (да и статистики сколько каждый пользователь в среднем слушает треков).\n",
    "    \n",
    "⚠️ После EDA хотелось бы видеть выводы и выдвинутые гипотезы, которые можно проверить при моделировании. Ведь в этом ценность EDA.\n",
    "</div>"
   ]
  },
  {
   "cell_type": "markdown",
   "id": "0d850a07-ef1e-462f-891a-1cf89f2e24ef",
   "metadata": {},
   "source": [
    "# Преобразование данных"
   ]
  },
  {
   "cell_type": "markdown",
   "id": "fabcf8d2-1192-4df5-b20b-fbb84689f57a",
   "metadata": {},
   "source": [
    "Преобразуем данные в формат, более пригодный для дальнейшего использования в расчётах рекомендаций."
   ]
  },
  {
   "cell_type": "code",
   "execution_count": null,
   "id": "a425556a-9382-45ca-a04e-f1981a522126",
   "metadata": {},
   "outputs": [],
   "source": [
    "# Это для удобства сделали немного выше"
   ]
  },
  {
   "cell_type": "markdown",
   "id": "4d1be653-eed8-4fa0-a9c5-3811b080d71d",
   "metadata": {},
   "source": [
    "# Сохранение данных"
   ]
  },
  {
   "cell_type": "markdown",
   "id": "36f1314a-3af3-4faf-a0b1-3045173d1500",
   "metadata": {},
   "source": [
    "Сохраним данные в двух файлах в персональном S3-бакете по пути `recsys/data/`:\n",
    "- `items.parquet` — все данные о музыкальных треках,\n",
    "- `events.parquet` — все данные о взаимодействиях."
   ]
  },
  {
   "cell_type": "code",
   "execution_count": 14,
   "id": "9f77af17-7705-4fae-9aad-db579b39faad",
   "metadata": {},
   "outputs": [],
   "source": [
    "items.to_parquet(\"items.parquet\")\n",
    "events.to_parquet(\"events.parquet\")"
   ]
  },
  {
   "cell_type": "code",
   "execution_count": 1,
   "id": "4863c542",
   "metadata": {},
   "outputs": [
    {
     "name": "stderr",
     "output_type": "stream",
     "text": [
      "/home/mle-user/mle_projects/mle-project-sprint-4-v001/.venv/lib/python3.10/site-packages/urllib3/connectionpool.py:1099: InsecureRequestWarning: Unverified HTTPS request is being made to host 'storage.yandexcloud.net'. Adding certificate verification is strongly advised. See: https://urllib3.readthedocs.io/en/latest/advanced-usage.html#tls-warnings\n",
      "  warnings.warn(\n",
      "/home/mle-user/mle_projects/mle-project-sprint-4-v001/.venv/lib/python3.10/site-packages/urllib3/connectionpool.py:1099: InsecureRequestWarning: Unverified HTTPS request is being made to host 'storage.yandexcloud.net'. Adding certificate verification is strongly advised. See: https://urllib3.readthedocs.io/en/latest/advanced-usage.html#tls-warnings\n",
      "  warnings.warn(\n",
      "/home/mle-user/mle_projects/mle-project-sprint-4-v001/.venv/lib/python3.10/site-packages/urllib3/connectionpool.py:1099: InsecureRequestWarning: Unverified HTTPS request is being made to host 'storage.yandexcloud.net'. Adding certificate verification is strongly advised. See: https://urllib3.readthedocs.io/en/latest/advanced-usage.html#tls-warnings\n",
      "  warnings.warn(\n",
      "/home/mle-user/mle_projects/mle-project-sprint-4-v001/.venv/lib/python3.10/site-packages/urllib3/connectionpool.py:1099: InsecureRequestWarning: Unverified HTTPS request is being made to host 'storage.yandexcloud.net'. Adding certificate verification is strongly advised. See: https://urllib3.readthedocs.io/en/latest/advanced-usage.html#tls-warnings\n",
      "  warnings.warn(\n",
      "/home/mle-user/mle_projects/mle-project-sprint-4-v001/.venv/lib/python3.10/site-packages/urllib3/connectionpool.py:1099: InsecureRequestWarning: Unverified HTTPS request is being made to host 'storage.yandexcloud.net'. Adding certificate verification is strongly advised. See: https://urllib3.readthedocs.io/en/latest/advanced-usage.html#tls-warnings\n",
      "  warnings.warn(\n",
      "/home/mle-user/mle_projects/mle-project-sprint-4-v001/.venv/lib/python3.10/site-packages/urllib3/connectionpool.py:1099: InsecureRequestWarning: Unverified HTTPS request is being made to host 'storage.yandexcloud.net'. Adding certificate verification is strongly advised. See: https://urllib3.readthedocs.io/en/latest/advanced-usage.html#tls-warnings\n",
      "  warnings.warn(\n",
      "/home/mle-user/mle_projects/mle-project-sprint-4-v001/.venv/lib/python3.10/site-packages/urllib3/connectionpool.py:1099: InsecureRequestWarning: Unverified HTTPS request is being made to host 'storage.yandexcloud.net'. Adding certificate verification is strongly advised. See: https://urllib3.readthedocs.io/en/latest/advanced-usage.html#tls-warnings\n",
      "  warnings.warn(\n",
      "/home/mle-user/mle_projects/mle-project-sprint-4-v001/.venv/lib/python3.10/site-packages/urllib3/connectionpool.py:1099: InsecureRequestWarning: Unverified HTTPS request is being made to host 'storage.yandexcloud.net'. Adding certificate verification is strongly advised. See: https://urllib3.readthedocs.io/en/latest/advanced-usage.html#tls-warnings\n",
      "  warnings.warn(\n",
      "/home/mle-user/mle_projects/mle-project-sprint-4-v001/.venv/lib/python3.10/site-packages/urllib3/connectionpool.py:1099: InsecureRequestWarning: Unverified HTTPS request is being made to host 'storage.yandexcloud.net'. Adding certificate verification is strongly advised. See: https://urllib3.readthedocs.io/en/latest/advanced-usage.html#tls-warnings\n",
      "  warnings.warn(\n",
      "/home/mle-user/mle_projects/mle-project-sprint-4-v001/.venv/lib/python3.10/site-packages/urllib3/connectionpool.py:1099: InsecureRequestWarning: Unverified HTTPS request is being made to host 'storage.yandexcloud.net'. Adding certificate verification is strongly advised. See: https://urllib3.readthedocs.io/en/latest/advanced-usage.html#tls-warnings\n",
      "  warnings.warn(\n",
      "/home/mle-user/mle_projects/mle-project-sprint-4-v001/.venv/lib/python3.10/site-packages/urllib3/connectionpool.py:1099: InsecureRequestWarning: Unverified HTTPS request is being made to host 'storage.yandexcloud.net'. Adding certificate verification is strongly advised. See: https://urllib3.readthedocs.io/en/latest/advanced-usage.html#tls-warnings\n",
      "  warnings.warn(\n",
      "/home/mle-user/mle_projects/mle-project-sprint-4-v001/.venv/lib/python3.10/site-packages/urllib3/connectionpool.py:1099: InsecureRequestWarning: Unverified HTTPS request is being made to host 'storage.yandexcloud.net'. Adding certificate verification is strongly advised. See: https://urllib3.readthedocs.io/en/latest/advanced-usage.html#tls-warnings\n",
      "  warnings.warn(\n",
      "/home/mle-user/mle_projects/mle-project-sprint-4-v001/.venv/lib/python3.10/site-packages/urllib3/connectionpool.py:1099: InsecureRequestWarning: Unverified HTTPS request is being made to host 'storage.yandexcloud.net'. Adding certificate verification is strongly advised. See: https://urllib3.readthedocs.io/en/latest/advanced-usage.html#tls-warnings\n",
      "  warnings.warn(\n",
      "/home/mle-user/mle_projects/mle-project-sprint-4-v001/.venv/lib/python3.10/site-packages/urllib3/connectionpool.py:1099: InsecureRequestWarning: Unverified HTTPS request is being made to host 'storage.yandexcloud.net'. Adding certificate verification is strongly advised. See: https://urllib3.readthedocs.io/en/latest/advanced-usage.html#tls-warnings\n",
      "  warnings.warn(\n"
     ]
    },
    {
     "name": "stdout",
     "output_type": "stream",
     "text": [
      "Файл items.parquet загружен в s3-student-mle-20240822-03e9c191e2/recsys/data//recsys/data/recsys/data/items.parquet\n"
     ]
    },
    {
     "name": "stderr",
     "output_type": "stream",
     "text": [
      "/home/mle-user/mle_projects/mle-project-sprint-4-v001/.venv/lib/python3.10/site-packages/urllib3/connectionpool.py:1099: InsecureRequestWarning: Unverified HTTPS request is being made to host 'storage.yandexcloud.net'. Adding certificate verification is strongly advised. See: https://urllib3.readthedocs.io/en/latest/advanced-usage.html#tls-warnings\n",
      "  warnings.warn(\n",
      "/home/mle-user/mle_projects/mle-project-sprint-4-v001/.venv/lib/python3.10/site-packages/urllib3/connectionpool.py:1099: InsecureRequestWarning: Unverified HTTPS request is being made to host 'storage.yandexcloud.net'. Adding certificate verification is strongly advised. See: https://urllib3.readthedocs.io/en/latest/advanced-usage.html#tls-warnings\n",
      "  warnings.warn(\n",
      "/home/mle-user/mle_projects/mle-project-sprint-4-v001/.venv/lib/python3.10/site-packages/urllib3/connectionpool.py:1099: InsecureRequestWarning: Unverified HTTPS request is being made to host 'storage.yandexcloud.net'. Adding certificate verification is strongly advised. See: https://urllib3.readthedocs.io/en/latest/advanced-usage.html#tls-warnings\n",
      "  warnings.warn(\n",
      "/home/mle-user/mle_projects/mle-project-sprint-4-v001/.venv/lib/python3.10/site-packages/urllib3/connectionpool.py:1099: InsecureRequestWarning: Unverified HTTPS request is being made to host 'storage.yandexcloud.net'. Adding certificate verification is strongly advised. See: https://urllib3.readthedocs.io/en/latest/advanced-usage.html#tls-warnings\n",
      "  warnings.warn(\n",
      "/home/mle-user/mle_projects/mle-project-sprint-4-v001/.venv/lib/python3.10/site-packages/urllib3/connectionpool.py:1099: InsecureRequestWarning: Unverified HTTPS request is being made to host 'storage.yandexcloud.net'. Adding certificate verification is strongly advised. See: https://urllib3.readthedocs.io/en/latest/advanced-usage.html#tls-warnings\n",
      "  warnings.warn(\n",
      "/home/mle-user/mle_projects/mle-project-sprint-4-v001/.venv/lib/python3.10/site-packages/urllib3/connectionpool.py:1099: InsecureRequestWarning: Unverified HTTPS request is being made to host 'storage.yandexcloud.net'. Adding certificate verification is strongly advised. See: https://urllib3.readthedocs.io/en/latest/advanced-usage.html#tls-warnings\n",
      "  warnings.warn(\n",
      "/home/mle-user/mle_projects/mle-project-sprint-4-v001/.venv/lib/python3.10/site-packages/urllib3/connectionpool.py:1099: InsecureRequestWarning: Unverified HTTPS request is being made to host 'storage.yandexcloud.net'. Adding certificate verification is strongly advised. See: https://urllib3.readthedocs.io/en/latest/advanced-usage.html#tls-warnings\n",
      "  warnings.warn(\n",
      "/home/mle-user/mle_projects/mle-project-sprint-4-v001/.venv/lib/python3.10/site-packages/urllib3/connectionpool.py:1099: InsecureRequestWarning: Unverified HTTPS request is being made to host 'storage.yandexcloud.net'. Adding certificate verification is strongly advised. See: https://urllib3.readthedocs.io/en/latest/advanced-usage.html#tls-warnings\n",
      "  warnings.warn(\n",
      "/home/mle-user/mle_projects/mle-project-sprint-4-v001/.venv/lib/python3.10/site-packages/urllib3/connectionpool.py:1099: InsecureRequestWarning: Unverified HTTPS request is being made to host 'storage.yandexcloud.net'. Adding certificate verification is strongly advised. See: https://urllib3.readthedocs.io/en/latest/advanced-usage.html#tls-warnings\n",
      "  warnings.warn(\n",
      "/home/mle-user/mle_projects/mle-project-sprint-4-v001/.venv/lib/python3.10/site-packages/urllib3/connectionpool.py:1099: InsecureRequestWarning: Unverified HTTPS request is being made to host 'storage.yandexcloud.net'. Adding certificate verification is strongly advised. See: https://urllib3.readthedocs.io/en/latest/advanced-usage.html#tls-warnings\n",
      "  warnings.warn(\n",
      "/home/mle-user/mle_projects/mle-project-sprint-4-v001/.venv/lib/python3.10/site-packages/urllib3/connectionpool.py:1099: InsecureRequestWarning: Unverified HTTPS request is being made to host 'storage.yandexcloud.net'. Adding certificate verification is strongly advised. See: https://urllib3.readthedocs.io/en/latest/advanced-usage.html#tls-warnings\n",
      "  warnings.warn(\n",
      "/home/mle-user/mle_projects/mle-project-sprint-4-v001/.venv/lib/python3.10/site-packages/urllib3/connectionpool.py:1099: InsecureRequestWarning: Unverified HTTPS request is being made to host 'storage.yandexcloud.net'. Adding certificate verification is strongly advised. See: https://urllib3.readthedocs.io/en/latest/advanced-usage.html#tls-warnings\n",
      "  warnings.warn(\n",
      "/home/mle-user/mle_projects/mle-project-sprint-4-v001/.venv/lib/python3.10/site-packages/urllib3/connectionpool.py:1099: InsecureRequestWarning: Unverified HTTPS request is being made to host 'storage.yandexcloud.net'. Adding certificate verification is strongly advised. See: https://urllib3.readthedocs.io/en/latest/advanced-usage.html#tls-warnings\n",
      "  warnings.warn(\n",
      "/home/mle-user/mle_projects/mle-project-sprint-4-v001/.venv/lib/python3.10/site-packages/urllib3/connectionpool.py:1099: InsecureRequestWarning: Unverified HTTPS request is being made to host 'storage.yandexcloud.net'. Adding certificate verification is strongly advised. See: https://urllib3.readthedocs.io/en/latest/advanced-usage.html#tls-warnings\n",
      "  warnings.warn(\n",
      "/home/mle-user/mle_projects/mle-project-sprint-4-v001/.venv/lib/python3.10/site-packages/urllib3/connectionpool.py:1099: InsecureRequestWarning: Unverified HTTPS request is being made to host 'storage.yandexcloud.net'. Adding certificate verification is strongly advised. See: https://urllib3.readthedocs.io/en/latest/advanced-usage.html#tls-warnings\n",
      "  warnings.warn(\n",
      "/home/mle-user/mle_projects/mle-project-sprint-4-v001/.venv/lib/python3.10/site-packages/urllib3/connectionpool.py:1099: InsecureRequestWarning: Unverified HTTPS request is being made to host 'storage.yandexcloud.net'. Adding certificate verification is strongly advised. See: https://urllib3.readthedocs.io/en/latest/advanced-usage.html#tls-warnings\n",
      "  warnings.warn(\n",
      "/home/mle-user/mle_projects/mle-project-sprint-4-v001/.venv/lib/python3.10/site-packages/urllib3/connectionpool.py:1099: InsecureRequestWarning: Unverified HTTPS request is being made to host 'storage.yandexcloud.net'. Adding certificate verification is strongly advised. See: https://urllib3.readthedocs.io/en/latest/advanced-usage.html#tls-warnings\n",
      "  warnings.warn(\n",
      "/home/mle-user/mle_projects/mle-project-sprint-4-v001/.venv/lib/python3.10/site-packages/urllib3/connectionpool.py:1099: InsecureRequestWarning: Unverified HTTPS request is being made to host 'storage.yandexcloud.net'. Adding certificate verification is strongly advised. See: https://urllib3.readthedocs.io/en/latest/advanced-usage.html#tls-warnings\n",
      "  warnings.warn(\n",
      "/home/mle-user/mle_projects/mle-project-sprint-4-v001/.venv/lib/python3.10/site-packages/urllib3/connectionpool.py:1099: InsecureRequestWarning: Unverified HTTPS request is being made to host 'storage.yandexcloud.net'. Adding certificate verification is strongly advised. See: https://urllib3.readthedocs.io/en/latest/advanced-usage.html#tls-warnings\n",
      "  warnings.warn(\n",
      "/home/mle-user/mle_projects/mle-project-sprint-4-v001/.venv/lib/python3.10/site-packages/urllib3/connectionpool.py:1099: InsecureRequestWarning: Unverified HTTPS request is being made to host 'storage.yandexcloud.net'. Adding certificate verification is strongly advised. See: https://urllib3.readthedocs.io/en/latest/advanced-usage.html#tls-warnings\n",
      "  warnings.warn(\n",
      "/home/mle-user/mle_projects/mle-project-sprint-4-v001/.venv/lib/python3.10/site-packages/urllib3/connectionpool.py:1099: InsecureRequestWarning: Unverified HTTPS request is being made to host 'storage.yandexcloud.net'. Adding certificate verification is strongly advised. See: https://urllib3.readthedocs.io/en/latest/advanced-usage.html#tls-warnings\n",
      "  warnings.warn(\n",
      "/home/mle-user/mle_projects/mle-project-sprint-4-v001/.venv/lib/python3.10/site-packages/urllib3/connectionpool.py:1099: InsecureRequestWarning: Unverified HTTPS request is being made to host 'storage.yandexcloud.net'. Adding certificate verification is strongly advised. See: https://urllib3.readthedocs.io/en/latest/advanced-usage.html#tls-warnings\n",
      "  warnings.warn(\n",
      "/home/mle-user/mle_projects/mle-project-sprint-4-v001/.venv/lib/python3.10/site-packages/urllib3/connectionpool.py:1099: InsecureRequestWarning: Unverified HTTPS request is being made to host 'storage.yandexcloud.net'. Adding certificate verification is strongly advised. See: https://urllib3.readthedocs.io/en/latest/advanced-usage.html#tls-warnings\n",
      "  warnings.warn(\n",
      "/home/mle-user/mle_projects/mle-project-sprint-4-v001/.venv/lib/python3.10/site-packages/urllib3/connectionpool.py:1099: InsecureRequestWarning: Unverified HTTPS request is being made to host 'storage.yandexcloud.net'. Adding certificate verification is strongly advised. See: https://urllib3.readthedocs.io/en/latest/advanced-usage.html#tls-warnings\n",
      "  warnings.warn(\n",
      "/home/mle-user/mle_projects/mle-project-sprint-4-v001/.venv/lib/python3.10/site-packages/urllib3/connectionpool.py:1099: InsecureRequestWarning: Unverified HTTPS request is being made to host 'storage.yandexcloud.net'. Adding certificate verification is strongly advised. See: https://urllib3.readthedocs.io/en/latest/advanced-usage.html#tls-warnings\n",
      "  warnings.warn(\n",
      "/home/mle-user/mle_projects/mle-project-sprint-4-v001/.venv/lib/python3.10/site-packages/urllib3/connectionpool.py:1099: InsecureRequestWarning: Unverified HTTPS request is being made to host 'storage.yandexcloud.net'. Adding certificate verification is strongly advised. See: https://urllib3.readthedocs.io/en/latest/advanced-usage.html#tls-warnings\n",
      "  warnings.warn(\n",
      "/home/mle-user/mle_projects/mle-project-sprint-4-v001/.venv/lib/python3.10/site-packages/urllib3/connectionpool.py:1099: InsecureRequestWarning: Unverified HTTPS request is being made to host 'storage.yandexcloud.net'. Adding certificate verification is strongly advised. See: https://urllib3.readthedocs.io/en/latest/advanced-usage.html#tls-warnings\n",
      "  warnings.warn(\n",
      "/home/mle-user/mle_projects/mle-project-sprint-4-v001/.venv/lib/python3.10/site-packages/urllib3/connectionpool.py:1099: InsecureRequestWarning: Unverified HTTPS request is being made to host 'storage.yandexcloud.net'. Adding certificate verification is strongly advised. See: https://urllib3.readthedocs.io/en/latest/advanced-usage.html#tls-warnings\n",
      "  warnings.warn(\n",
      "/home/mle-user/mle_projects/mle-project-sprint-4-v001/.venv/lib/python3.10/site-packages/urllib3/connectionpool.py:1099: InsecureRequestWarning: Unverified HTTPS request is being made to host 'storage.yandexcloud.net'. Adding certificate verification is strongly advised. See: https://urllib3.readthedocs.io/en/latest/advanced-usage.html#tls-warnings\n",
      "  warnings.warn(\n",
      "/home/mle-user/mle_projects/mle-project-sprint-4-v001/.venv/lib/python3.10/site-packages/urllib3/connectionpool.py:1099: InsecureRequestWarning: Unverified HTTPS request is being made to host 'storage.yandexcloud.net'. Adding certificate verification is strongly advised. See: https://urllib3.readthedocs.io/en/latest/advanced-usage.html#tls-warnings\n",
      "  warnings.warn(\n",
      "/home/mle-user/mle_projects/mle-project-sprint-4-v001/.venv/lib/python3.10/site-packages/urllib3/connectionpool.py:1099: InsecureRequestWarning: Unverified HTTPS request is being made to host 'storage.yandexcloud.net'. Adding certificate verification is strongly advised. See: https://urllib3.readthedocs.io/en/latest/advanced-usage.html#tls-warnings\n",
      "  warnings.warn(\n",
      "/home/mle-user/mle_projects/mle-project-sprint-4-v001/.venv/lib/python3.10/site-packages/urllib3/connectionpool.py:1099: InsecureRequestWarning: Unverified HTTPS request is being made to host 'storage.yandexcloud.net'. Adding certificate verification is strongly advised. See: https://urllib3.readthedocs.io/en/latest/advanced-usage.html#tls-warnings\n",
      "  warnings.warn(\n",
      "/home/mle-user/mle_projects/mle-project-sprint-4-v001/.venv/lib/python3.10/site-packages/urllib3/connectionpool.py:1099: InsecureRequestWarning: Unverified HTTPS request is being made to host 'storage.yandexcloud.net'. Adding certificate verification is strongly advised. See: https://urllib3.readthedocs.io/en/latest/advanced-usage.html#tls-warnings\n",
      "  warnings.warn(\n",
      "/home/mle-user/mle_projects/mle-project-sprint-4-v001/.venv/lib/python3.10/site-packages/urllib3/connectionpool.py:1099: InsecureRequestWarning: Unverified HTTPS request is being made to host 'storage.yandexcloud.net'. Adding certificate verification is strongly advised. See: https://urllib3.readthedocs.io/en/latest/advanced-usage.html#tls-warnings\n",
      "  warnings.warn(\n",
      "/home/mle-user/mle_projects/mle-project-sprint-4-v001/.venv/lib/python3.10/site-packages/urllib3/connectionpool.py:1099: InsecureRequestWarning: Unverified HTTPS request is being made to host 'storage.yandexcloud.net'. Adding certificate verification is strongly advised. See: https://urllib3.readthedocs.io/en/latest/advanced-usage.html#tls-warnings\n",
      "  warnings.warn(\n",
      "/home/mle-user/mle_projects/mle-project-sprint-4-v001/.venv/lib/python3.10/site-packages/urllib3/connectionpool.py:1099: InsecureRequestWarning: Unverified HTTPS request is being made to host 'storage.yandexcloud.net'. Adding certificate verification is strongly advised. See: https://urllib3.readthedocs.io/en/latest/advanced-usage.html#tls-warnings\n",
      "  warnings.warn(\n",
      "/home/mle-user/mle_projects/mle-project-sprint-4-v001/.venv/lib/python3.10/site-packages/urllib3/connectionpool.py:1099: InsecureRequestWarning: Unverified HTTPS request is being made to host 'storage.yandexcloud.net'. Adding certificate verification is strongly advised. See: https://urllib3.readthedocs.io/en/latest/advanced-usage.html#tls-warnings\n",
      "  warnings.warn(\n",
      "/home/mle-user/mle_projects/mle-project-sprint-4-v001/.venv/lib/python3.10/site-packages/urllib3/connectionpool.py:1099: InsecureRequestWarning: Unverified HTTPS request is being made to host 'storage.yandexcloud.net'. Adding certificate verification is strongly advised. See: https://urllib3.readthedocs.io/en/latest/advanced-usage.html#tls-warnings\n",
      "  warnings.warn(\n",
      "/home/mle-user/mle_projects/mle-project-sprint-4-v001/.venv/lib/python3.10/site-packages/urllib3/connectionpool.py:1099: InsecureRequestWarning: Unverified HTTPS request is being made to host 'storage.yandexcloud.net'. Adding certificate verification is strongly advised. See: https://urllib3.readthedocs.io/en/latest/advanced-usage.html#tls-warnings\n",
      "  warnings.warn(\n",
      "/home/mle-user/mle_projects/mle-project-sprint-4-v001/.venv/lib/python3.10/site-packages/urllib3/connectionpool.py:1099: InsecureRequestWarning: Unverified HTTPS request is being made to host 'storage.yandexcloud.net'. Adding certificate verification is strongly advised. See: https://urllib3.readthedocs.io/en/latest/advanced-usage.html#tls-warnings\n",
      "  warnings.warn(\n",
      "/home/mle-user/mle_projects/mle-project-sprint-4-v001/.venv/lib/python3.10/site-packages/urllib3/connectionpool.py:1099: InsecureRequestWarning: Unverified HTTPS request is being made to host 'storage.yandexcloud.net'. Adding certificate verification is strongly advised. See: https://urllib3.readthedocs.io/en/latest/advanced-usage.html#tls-warnings\n",
      "  warnings.warn(\n",
      "/home/mle-user/mle_projects/mle-project-sprint-4-v001/.venv/lib/python3.10/site-packages/urllib3/connectionpool.py:1099: InsecureRequestWarning: Unverified HTTPS request is being made to host 'storage.yandexcloud.net'. Adding certificate verification is strongly advised. See: https://urllib3.readthedocs.io/en/latest/advanced-usage.html#tls-warnings\n",
      "  warnings.warn(\n",
      "/home/mle-user/mle_projects/mle-project-sprint-4-v001/.venv/lib/python3.10/site-packages/urllib3/connectionpool.py:1099: InsecureRequestWarning: Unverified HTTPS request is being made to host 'storage.yandexcloud.net'. Adding certificate verification is strongly advised. See: https://urllib3.readthedocs.io/en/latest/advanced-usage.html#tls-warnings\n",
      "  warnings.warn(\n",
      "/home/mle-user/mle_projects/mle-project-sprint-4-v001/.venv/lib/python3.10/site-packages/urllib3/connectionpool.py:1099: InsecureRequestWarning: Unverified HTTPS request is being made to host 'storage.yandexcloud.net'. Adding certificate verification is strongly advised. See: https://urllib3.readthedocs.io/en/latest/advanced-usage.html#tls-warnings\n",
      "  warnings.warn(\n",
      "/home/mle-user/mle_projects/mle-project-sprint-4-v001/.venv/lib/python3.10/site-packages/urllib3/connectionpool.py:1099: InsecureRequestWarning: Unverified HTTPS request is being made to host 'storage.yandexcloud.net'. Adding certificate verification is strongly advised. See: https://urllib3.readthedocs.io/en/latest/advanced-usage.html#tls-warnings\n",
      "  warnings.warn(\n",
      "/home/mle-user/mle_projects/mle-project-sprint-4-v001/.venv/lib/python3.10/site-packages/urllib3/connectionpool.py:1099: InsecureRequestWarning: Unverified HTTPS request is being made to host 'storage.yandexcloud.net'. Adding certificate verification is strongly advised. See: https://urllib3.readthedocs.io/en/latest/advanced-usage.html#tls-warnings\n",
      "  warnings.warn(\n",
      "/home/mle-user/mle_projects/mle-project-sprint-4-v001/.venv/lib/python3.10/site-packages/urllib3/connectionpool.py:1099: InsecureRequestWarning: Unverified HTTPS request is being made to host 'storage.yandexcloud.net'. Adding certificate verification is strongly advised. See: https://urllib3.readthedocs.io/en/latest/advanced-usage.html#tls-warnings\n",
      "  warnings.warn(\n",
      "/home/mle-user/mle_projects/mle-project-sprint-4-v001/.venv/lib/python3.10/site-packages/urllib3/connectionpool.py:1099: InsecureRequestWarning: Unverified HTTPS request is being made to host 'storage.yandexcloud.net'. Adding certificate verification is strongly advised. See: https://urllib3.readthedocs.io/en/latest/advanced-usage.html#tls-warnings\n",
      "  warnings.warn(\n",
      "/home/mle-user/mle_projects/mle-project-sprint-4-v001/.venv/lib/python3.10/site-packages/urllib3/connectionpool.py:1099: InsecureRequestWarning: Unverified HTTPS request is being made to host 'storage.yandexcloud.net'. Adding certificate verification is strongly advised. See: https://urllib3.readthedocs.io/en/latest/advanced-usage.html#tls-warnings\n",
      "  warnings.warn(\n",
      "/home/mle-user/mle_projects/mle-project-sprint-4-v001/.venv/lib/python3.10/site-packages/urllib3/connectionpool.py:1099: InsecureRequestWarning: Unverified HTTPS request is being made to host 'storage.yandexcloud.net'. Adding certificate verification is strongly advised. See: https://urllib3.readthedocs.io/en/latest/advanced-usage.html#tls-warnings\n",
      "  warnings.warn(\n",
      "/home/mle-user/mle_projects/mle-project-sprint-4-v001/.venv/lib/python3.10/site-packages/urllib3/connectionpool.py:1099: InsecureRequestWarning: Unverified HTTPS request is being made to host 'storage.yandexcloud.net'. Adding certificate verification is strongly advised. See: https://urllib3.readthedocs.io/en/latest/advanced-usage.html#tls-warnings\n",
      "  warnings.warn(\n",
      "/home/mle-user/mle_projects/mle-project-sprint-4-v001/.venv/lib/python3.10/site-packages/urllib3/connectionpool.py:1099: InsecureRequestWarning: Unverified HTTPS request is being made to host 'storage.yandexcloud.net'. Adding certificate verification is strongly advised. See: https://urllib3.readthedocs.io/en/latest/advanced-usage.html#tls-warnings\n",
      "  warnings.warn(\n",
      "/home/mle-user/mle_projects/mle-project-sprint-4-v001/.venv/lib/python3.10/site-packages/urllib3/connectionpool.py:1099: InsecureRequestWarning: Unverified HTTPS request is being made to host 'storage.yandexcloud.net'. Adding certificate verification is strongly advised. See: https://urllib3.readthedocs.io/en/latest/advanced-usage.html#tls-warnings\n",
      "  warnings.warn(\n",
      "/home/mle-user/mle_projects/mle-project-sprint-4-v001/.venv/lib/python3.10/site-packages/urllib3/connectionpool.py:1099: InsecureRequestWarning: Unverified HTTPS request is being made to host 'storage.yandexcloud.net'. Adding certificate verification is strongly advised. See: https://urllib3.readthedocs.io/en/latest/advanced-usage.html#tls-warnings\n",
      "  warnings.warn(\n",
      "/home/mle-user/mle_projects/mle-project-sprint-4-v001/.venv/lib/python3.10/site-packages/urllib3/connectionpool.py:1099: InsecureRequestWarning: Unverified HTTPS request is being made to host 'storage.yandexcloud.net'. Adding certificate verification is strongly advised. See: https://urllib3.readthedocs.io/en/latest/advanced-usage.html#tls-warnings\n",
      "  warnings.warn(\n",
      "/home/mle-user/mle_projects/mle-project-sprint-4-v001/.venv/lib/python3.10/site-packages/urllib3/connectionpool.py:1099: InsecureRequestWarning: Unverified HTTPS request is being made to host 'storage.yandexcloud.net'. Adding certificate verification is strongly advised. See: https://urllib3.readthedocs.io/en/latest/advanced-usage.html#tls-warnings\n",
      "  warnings.warn(\n",
      "/home/mle-user/mle_projects/mle-project-sprint-4-v001/.venv/lib/python3.10/site-packages/urllib3/connectionpool.py:1099: InsecureRequestWarning: Unverified HTTPS request is being made to host 'storage.yandexcloud.net'. Adding certificate verification is strongly advised. See: https://urllib3.readthedocs.io/en/latest/advanced-usage.html#tls-warnings\n",
      "  warnings.warn(\n",
      "/home/mle-user/mle_projects/mle-project-sprint-4-v001/.venv/lib/python3.10/site-packages/urllib3/connectionpool.py:1099: InsecureRequestWarning: Unverified HTTPS request is being made to host 'storage.yandexcloud.net'. Adding certificate verification is strongly advised. See: https://urllib3.readthedocs.io/en/latest/advanced-usage.html#tls-warnings\n",
      "  warnings.warn(\n",
      "/home/mle-user/mle_projects/mle-project-sprint-4-v001/.venv/lib/python3.10/site-packages/urllib3/connectionpool.py:1099: InsecureRequestWarning: Unverified HTTPS request is being made to host 'storage.yandexcloud.net'. Adding certificate verification is strongly advised. See: https://urllib3.readthedocs.io/en/latest/advanced-usage.html#tls-warnings\n",
      "  warnings.warn(\n",
      "/home/mle-user/mle_projects/mle-project-sprint-4-v001/.venv/lib/python3.10/site-packages/urllib3/connectionpool.py:1099: InsecureRequestWarning: Unverified HTTPS request is being made to host 'storage.yandexcloud.net'. Adding certificate verification is strongly advised. See: https://urllib3.readthedocs.io/en/latest/advanced-usage.html#tls-warnings\n",
      "  warnings.warn(\n",
      "/home/mle-user/mle_projects/mle-project-sprint-4-v001/.venv/lib/python3.10/site-packages/urllib3/connectionpool.py:1099: InsecureRequestWarning: Unverified HTTPS request is being made to host 'storage.yandexcloud.net'. Adding certificate verification is strongly advised. See: https://urllib3.readthedocs.io/en/latest/advanced-usage.html#tls-warnings\n",
      "  warnings.warn(\n",
      "/home/mle-user/mle_projects/mle-project-sprint-4-v001/.venv/lib/python3.10/site-packages/urllib3/connectionpool.py:1099: InsecureRequestWarning: Unverified HTTPS request is being made to host 'storage.yandexcloud.net'. Adding certificate verification is strongly advised. See: https://urllib3.readthedocs.io/en/latest/advanced-usage.html#tls-warnings\n",
      "  warnings.warn(\n",
      "/home/mle-user/mle_projects/mle-project-sprint-4-v001/.venv/lib/python3.10/site-packages/urllib3/connectionpool.py:1099: InsecureRequestWarning: Unverified HTTPS request is being made to host 'storage.yandexcloud.net'. Adding certificate verification is strongly advised. See: https://urllib3.readthedocs.io/en/latest/advanced-usage.html#tls-warnings\n",
      "  warnings.warn(\n",
      "/home/mle-user/mle_projects/mle-project-sprint-4-v001/.venv/lib/python3.10/site-packages/urllib3/connectionpool.py:1099: InsecureRequestWarning: Unverified HTTPS request is being made to host 'storage.yandexcloud.net'. Adding certificate verification is strongly advised. See: https://urllib3.readthedocs.io/en/latest/advanced-usage.html#tls-warnings\n",
      "  warnings.warn(\n",
      "/home/mle-user/mle_projects/mle-project-sprint-4-v001/.venv/lib/python3.10/site-packages/urllib3/connectionpool.py:1099: InsecureRequestWarning: Unverified HTTPS request is being made to host 'storage.yandexcloud.net'. Adding certificate verification is strongly advised. See: https://urllib3.readthedocs.io/en/latest/advanced-usage.html#tls-warnings\n",
      "  warnings.warn(\n",
      "/home/mle-user/mle_projects/mle-project-sprint-4-v001/.venv/lib/python3.10/site-packages/urllib3/connectionpool.py:1099: InsecureRequestWarning: Unverified HTTPS request is being made to host 'storage.yandexcloud.net'. Adding certificate verification is strongly advised. See: https://urllib3.readthedocs.io/en/latest/advanced-usage.html#tls-warnings\n",
      "  warnings.warn(\n",
      "/home/mle-user/mle_projects/mle-project-sprint-4-v001/.venv/lib/python3.10/site-packages/urllib3/connectionpool.py:1099: InsecureRequestWarning: Unverified HTTPS request is being made to host 'storage.yandexcloud.net'. Adding certificate verification is strongly advised. See: https://urllib3.readthedocs.io/en/latest/advanced-usage.html#tls-warnings\n",
      "  warnings.warn(\n",
      "/home/mle-user/mle_projects/mle-project-sprint-4-v001/.venv/lib/python3.10/site-packages/urllib3/connectionpool.py:1099: InsecureRequestWarning: Unverified HTTPS request is being made to host 'storage.yandexcloud.net'. Adding certificate verification is strongly advised. See: https://urllib3.readthedocs.io/en/latest/advanced-usage.html#tls-warnings\n",
      "  warnings.warn(\n",
      "/home/mle-user/mle_projects/mle-project-sprint-4-v001/.venv/lib/python3.10/site-packages/urllib3/connectionpool.py:1099: InsecureRequestWarning: Unverified HTTPS request is being made to host 'storage.yandexcloud.net'. Adding certificate verification is strongly advised. See: https://urllib3.readthedocs.io/en/latest/advanced-usage.html#tls-warnings\n",
      "  warnings.warn(\n",
      "/home/mle-user/mle_projects/mle-project-sprint-4-v001/.venv/lib/python3.10/site-packages/urllib3/connectionpool.py:1099: InsecureRequestWarning: Unverified HTTPS request is being made to host 'storage.yandexcloud.net'. Adding certificate verification is strongly advised. See: https://urllib3.readthedocs.io/en/latest/advanced-usage.html#tls-warnings\n",
      "  warnings.warn(\n",
      "/home/mle-user/mle_projects/mle-project-sprint-4-v001/.venv/lib/python3.10/site-packages/urllib3/connectionpool.py:1099: InsecureRequestWarning: Unverified HTTPS request is being made to host 'storage.yandexcloud.net'. Adding certificate verification is strongly advised. See: https://urllib3.readthedocs.io/en/latest/advanced-usage.html#tls-warnings\n",
      "  warnings.warn(\n",
      "/home/mle-user/mle_projects/mle-project-sprint-4-v001/.venv/lib/python3.10/site-packages/urllib3/connectionpool.py:1099: InsecureRequestWarning: Unverified HTTPS request is being made to host 'storage.yandexcloud.net'. Adding certificate verification is strongly advised. See: https://urllib3.readthedocs.io/en/latest/advanced-usage.html#tls-warnings\n",
      "  warnings.warn(\n",
      "/home/mle-user/mle_projects/mle-project-sprint-4-v001/.venv/lib/python3.10/site-packages/urllib3/connectionpool.py:1099: InsecureRequestWarning: Unverified HTTPS request is being made to host 'storage.yandexcloud.net'. Adding certificate verification is strongly advised. See: https://urllib3.readthedocs.io/en/latest/advanced-usage.html#tls-warnings\n",
      "  warnings.warn(\n",
      "/home/mle-user/mle_projects/mle-project-sprint-4-v001/.venv/lib/python3.10/site-packages/urllib3/connectionpool.py:1099: InsecureRequestWarning: Unverified HTTPS request is being made to host 'storage.yandexcloud.net'. Adding certificate verification is strongly advised. See: https://urllib3.readthedocs.io/en/latest/advanced-usage.html#tls-warnings\n",
      "  warnings.warn(\n",
      "/home/mle-user/mle_projects/mle-project-sprint-4-v001/.venv/lib/python3.10/site-packages/urllib3/connectionpool.py:1099: InsecureRequestWarning: Unverified HTTPS request is being made to host 'storage.yandexcloud.net'. Adding certificate verification is strongly advised. See: https://urllib3.readthedocs.io/en/latest/advanced-usage.html#tls-warnings\n",
      "  warnings.warn(\n",
      "/home/mle-user/mle_projects/mle-project-sprint-4-v001/.venv/lib/python3.10/site-packages/urllib3/connectionpool.py:1099: InsecureRequestWarning: Unverified HTTPS request is being made to host 'storage.yandexcloud.net'. Adding certificate verification is strongly advised. See: https://urllib3.readthedocs.io/en/latest/advanced-usage.html#tls-warnings\n",
      "  warnings.warn(\n",
      "/home/mle-user/mle_projects/mle-project-sprint-4-v001/.venv/lib/python3.10/site-packages/urllib3/connectionpool.py:1099: InsecureRequestWarning: Unverified HTTPS request is being made to host 'storage.yandexcloud.net'. Adding certificate verification is strongly advised. See: https://urllib3.readthedocs.io/en/latest/advanced-usage.html#tls-warnings\n",
      "  warnings.warn(\n",
      "/home/mle-user/mle_projects/mle-project-sprint-4-v001/.venv/lib/python3.10/site-packages/urllib3/connectionpool.py:1099: InsecureRequestWarning: Unverified HTTPS request is being made to host 'storage.yandexcloud.net'. Adding certificate verification is strongly advised. See: https://urllib3.readthedocs.io/en/latest/advanced-usage.html#tls-warnings\n",
      "  warnings.warn(\n",
      "/home/mle-user/mle_projects/mle-project-sprint-4-v001/.venv/lib/python3.10/site-packages/urllib3/connectionpool.py:1099: InsecureRequestWarning: Unverified HTTPS request is being made to host 'storage.yandexcloud.net'. Adding certificate verification is strongly advised. See: https://urllib3.readthedocs.io/en/latest/advanced-usage.html#tls-warnings\n",
      "  warnings.warn(\n",
      "/home/mle-user/mle_projects/mle-project-sprint-4-v001/.venv/lib/python3.10/site-packages/urllib3/connectionpool.py:1099: InsecureRequestWarning: Unverified HTTPS request is being made to host 'storage.yandexcloud.net'. Adding certificate verification is strongly advised. See: https://urllib3.readthedocs.io/en/latest/advanced-usage.html#tls-warnings\n",
      "  warnings.warn(\n",
      "/home/mle-user/mle_projects/mle-project-sprint-4-v001/.venv/lib/python3.10/site-packages/urllib3/connectionpool.py:1099: InsecureRequestWarning: Unverified HTTPS request is being made to host 'storage.yandexcloud.net'. Adding certificate verification is strongly advised. See: https://urllib3.readthedocs.io/en/latest/advanced-usage.html#tls-warnings\n",
      "  warnings.warn(\n",
      "/home/mle-user/mle_projects/mle-project-sprint-4-v001/.venv/lib/python3.10/site-packages/urllib3/connectionpool.py:1099: InsecureRequestWarning: Unverified HTTPS request is being made to host 'storage.yandexcloud.net'. Adding certificate verification is strongly advised. See: https://urllib3.readthedocs.io/en/latest/advanced-usage.html#tls-warnings\n",
      "  warnings.warn(\n",
      "/home/mle-user/mle_projects/mle-project-sprint-4-v001/.venv/lib/python3.10/site-packages/urllib3/connectionpool.py:1099: InsecureRequestWarning: Unverified HTTPS request is being made to host 'storage.yandexcloud.net'. Adding certificate verification is strongly advised. See: https://urllib3.readthedocs.io/en/latest/advanced-usage.html#tls-warnings\n",
      "  warnings.warn(\n",
      "/home/mle-user/mle_projects/mle-project-sprint-4-v001/.venv/lib/python3.10/site-packages/urllib3/connectionpool.py:1099: InsecureRequestWarning: Unverified HTTPS request is being made to host 'storage.yandexcloud.net'. Adding certificate verification is strongly advised. See: https://urllib3.readthedocs.io/en/latest/advanced-usage.html#tls-warnings\n",
      "  warnings.warn(\n",
      "/home/mle-user/mle_projects/mle-project-sprint-4-v001/.venv/lib/python3.10/site-packages/urllib3/connectionpool.py:1099: InsecureRequestWarning: Unverified HTTPS request is being made to host 'storage.yandexcloud.net'. Adding certificate verification is strongly advised. See: https://urllib3.readthedocs.io/en/latest/advanced-usage.html#tls-warnings\n",
      "  warnings.warn(\n",
      "/home/mle-user/mle_projects/mle-project-sprint-4-v001/.venv/lib/python3.10/site-packages/urllib3/connectionpool.py:1099: InsecureRequestWarning: Unverified HTTPS request is being made to host 'storage.yandexcloud.net'. Adding certificate verification is strongly advised. See: https://urllib3.readthedocs.io/en/latest/advanced-usage.html#tls-warnings\n",
      "  warnings.warn(\n",
      "/home/mle-user/mle_projects/mle-project-sprint-4-v001/.venv/lib/python3.10/site-packages/urllib3/connectionpool.py:1099: InsecureRequestWarning: Unverified HTTPS request is being made to host 'storage.yandexcloud.net'. Adding certificate verification is strongly advised. See: https://urllib3.readthedocs.io/en/latest/advanced-usage.html#tls-warnings\n",
      "  warnings.warn(\n",
      "/home/mle-user/mle_projects/mle-project-sprint-4-v001/.venv/lib/python3.10/site-packages/urllib3/connectionpool.py:1099: InsecureRequestWarning: Unverified HTTPS request is being made to host 'storage.yandexcloud.net'. Adding certificate verification is strongly advised. See: https://urllib3.readthedocs.io/en/latest/advanced-usage.html#tls-warnings\n",
      "  warnings.warn(\n",
      "/home/mle-user/mle_projects/mle-project-sprint-4-v001/.venv/lib/python3.10/site-packages/urllib3/connectionpool.py:1099: InsecureRequestWarning: Unverified HTTPS request is being made to host 'storage.yandexcloud.net'. Adding certificate verification is strongly advised. See: https://urllib3.readthedocs.io/en/latest/advanced-usage.html#tls-warnings\n",
      "  warnings.warn(\n",
      "/home/mle-user/mle_projects/mle-project-sprint-4-v001/.venv/lib/python3.10/site-packages/urllib3/connectionpool.py:1099: InsecureRequestWarning: Unverified HTTPS request is being made to host 'storage.yandexcloud.net'. Adding certificate verification is strongly advised. See: https://urllib3.readthedocs.io/en/latest/advanced-usage.html#tls-warnings\n",
      "  warnings.warn(\n",
      "/home/mle-user/mle_projects/mle-project-sprint-4-v001/.venv/lib/python3.10/site-packages/urllib3/connectionpool.py:1099: InsecureRequestWarning: Unverified HTTPS request is being made to host 'storage.yandexcloud.net'. Adding certificate verification is strongly advised. See: https://urllib3.readthedocs.io/en/latest/advanced-usage.html#tls-warnings\n",
      "  warnings.warn(\n",
      "/home/mle-user/mle_projects/mle-project-sprint-4-v001/.venv/lib/python3.10/site-packages/urllib3/connectionpool.py:1099: InsecureRequestWarning: Unverified HTTPS request is being made to host 'storage.yandexcloud.net'. Adding certificate verification is strongly advised. See: https://urllib3.readthedocs.io/en/latest/advanced-usage.html#tls-warnings\n",
      "  warnings.warn(\n",
      "/home/mle-user/mle_projects/mle-project-sprint-4-v001/.venv/lib/python3.10/site-packages/urllib3/connectionpool.py:1099: InsecureRequestWarning: Unverified HTTPS request is being made to host 'storage.yandexcloud.net'. Adding certificate verification is strongly advised. See: https://urllib3.readthedocs.io/en/latest/advanced-usage.html#tls-warnings\n",
      "  warnings.warn(\n",
      "/home/mle-user/mle_projects/mle-project-sprint-4-v001/.venv/lib/python3.10/site-packages/urllib3/connectionpool.py:1099: InsecureRequestWarning: Unverified HTTPS request is being made to host 'storage.yandexcloud.net'. Adding certificate verification is strongly advised. See: https://urllib3.readthedocs.io/en/latest/advanced-usage.html#tls-warnings\n",
      "  warnings.warn(\n",
      "/home/mle-user/mle_projects/mle-project-sprint-4-v001/.venv/lib/python3.10/site-packages/urllib3/connectionpool.py:1099: InsecureRequestWarning: Unverified HTTPS request is being made to host 'storage.yandexcloud.net'. Adding certificate verification is strongly advised. See: https://urllib3.readthedocs.io/en/latest/advanced-usage.html#tls-warnings\n",
      "  warnings.warn(\n",
      "/home/mle-user/mle_projects/mle-project-sprint-4-v001/.venv/lib/python3.10/site-packages/urllib3/connectionpool.py:1099: InsecureRequestWarning: Unverified HTTPS request is being made to host 'storage.yandexcloud.net'. Adding certificate verification is strongly advised. See: https://urllib3.readthedocs.io/en/latest/advanced-usage.html#tls-warnings\n",
      "  warnings.warn(\n",
      "/home/mle-user/mle_projects/mle-project-sprint-4-v001/.venv/lib/python3.10/site-packages/urllib3/connectionpool.py:1099: InsecureRequestWarning: Unverified HTTPS request is being made to host 'storage.yandexcloud.net'. Adding certificate verification is strongly advised. See: https://urllib3.readthedocs.io/en/latest/advanced-usage.html#tls-warnings\n",
      "  warnings.warn(\n",
      "/home/mle-user/mle_projects/mle-project-sprint-4-v001/.venv/lib/python3.10/site-packages/urllib3/connectionpool.py:1099: InsecureRequestWarning: Unverified HTTPS request is being made to host 'storage.yandexcloud.net'. Adding certificate verification is strongly advised. See: https://urllib3.readthedocs.io/en/latest/advanced-usage.html#tls-warnings\n",
      "  warnings.warn(\n",
      "/home/mle-user/mle_projects/mle-project-sprint-4-v001/.venv/lib/python3.10/site-packages/urllib3/connectionpool.py:1099: InsecureRequestWarning: Unverified HTTPS request is being made to host 'storage.yandexcloud.net'. Adding certificate verification is strongly advised. See: https://urllib3.readthedocs.io/en/latest/advanced-usage.html#tls-warnings\n",
      "  warnings.warn(\n",
      "/home/mle-user/mle_projects/mle-project-sprint-4-v001/.venv/lib/python3.10/site-packages/urllib3/connectionpool.py:1099: InsecureRequestWarning: Unverified HTTPS request is being made to host 'storage.yandexcloud.net'. Adding certificate verification is strongly advised. See: https://urllib3.readthedocs.io/en/latest/advanced-usage.html#tls-warnings\n",
      "  warnings.warn(\n",
      "/home/mle-user/mle_projects/mle-project-sprint-4-v001/.venv/lib/python3.10/site-packages/urllib3/connectionpool.py:1099: InsecureRequestWarning: Unverified HTTPS request is being made to host 'storage.yandexcloud.net'. Adding certificate verification is strongly advised. See: https://urllib3.readthedocs.io/en/latest/advanced-usage.html#tls-warnings\n",
      "  warnings.warn(\n",
      "/home/mle-user/mle_projects/mle-project-sprint-4-v001/.venv/lib/python3.10/site-packages/urllib3/connectionpool.py:1099: InsecureRequestWarning: Unverified HTTPS request is being made to host 'storage.yandexcloud.net'. Adding certificate verification is strongly advised. See: https://urllib3.readthedocs.io/en/latest/advanced-usage.html#tls-warnings\n",
      "  warnings.warn(\n",
      "/home/mle-user/mle_projects/mle-project-sprint-4-v001/.venv/lib/python3.10/site-packages/urllib3/connectionpool.py:1099: InsecureRequestWarning: Unverified HTTPS request is being made to host 'storage.yandexcloud.net'. Adding certificate verification is strongly advised. See: https://urllib3.readthedocs.io/en/latest/advanced-usage.html#tls-warnings\n",
      "  warnings.warn(\n",
      "/home/mle-user/mle_projects/mle-project-sprint-4-v001/.venv/lib/python3.10/site-packages/urllib3/connectionpool.py:1099: InsecureRequestWarning: Unverified HTTPS request is being made to host 'storage.yandexcloud.net'. Adding certificate verification is strongly advised. See: https://urllib3.readthedocs.io/en/latest/advanced-usage.html#tls-warnings\n",
      "  warnings.warn(\n",
      "/home/mle-user/mle_projects/mle-project-sprint-4-v001/.venv/lib/python3.10/site-packages/urllib3/connectionpool.py:1099: InsecureRequestWarning: Unverified HTTPS request is being made to host 'storage.yandexcloud.net'. Adding certificate verification is strongly advised. See: https://urllib3.readthedocs.io/en/latest/advanced-usage.html#tls-warnings\n",
      "  warnings.warn(\n",
      "/home/mle-user/mle_projects/mle-project-sprint-4-v001/.venv/lib/python3.10/site-packages/urllib3/connectionpool.py:1099: InsecureRequestWarning: Unverified HTTPS request is being made to host 'storage.yandexcloud.net'. Adding certificate verification is strongly advised. See: https://urllib3.readthedocs.io/en/latest/advanced-usage.html#tls-warnings\n",
      "  warnings.warn(\n",
      "/home/mle-user/mle_projects/mle-project-sprint-4-v001/.venv/lib/python3.10/site-packages/urllib3/connectionpool.py:1099: InsecureRequestWarning: Unverified HTTPS request is being made to host 'storage.yandexcloud.net'. Adding certificate verification is strongly advised. See: https://urllib3.readthedocs.io/en/latest/advanced-usage.html#tls-warnings\n",
      "  warnings.warn(\n",
      "/home/mle-user/mle_projects/mle-project-sprint-4-v001/.venv/lib/python3.10/site-packages/urllib3/connectionpool.py:1099: InsecureRequestWarning: Unverified HTTPS request is being made to host 'storage.yandexcloud.net'. Adding certificate verification is strongly advised. See: https://urllib3.readthedocs.io/en/latest/advanced-usage.html#tls-warnings\n",
      "  warnings.warn(\n",
      "/home/mle-user/mle_projects/mle-project-sprint-4-v001/.venv/lib/python3.10/site-packages/urllib3/connectionpool.py:1099: InsecureRequestWarning: Unverified HTTPS request is being made to host 'storage.yandexcloud.net'. Adding certificate verification is strongly advised. See: https://urllib3.readthedocs.io/en/latest/advanced-usage.html#tls-warnings\n",
      "  warnings.warn(\n",
      "/home/mle-user/mle_projects/mle-project-sprint-4-v001/.venv/lib/python3.10/site-packages/urllib3/connectionpool.py:1099: InsecureRequestWarning: Unverified HTTPS request is being made to host 'storage.yandexcloud.net'. Adding certificate verification is strongly advised. See: https://urllib3.readthedocs.io/en/latest/advanced-usage.html#tls-warnings\n",
      "  warnings.warn(\n",
      "/home/mle-user/mle_projects/mle-project-sprint-4-v001/.venv/lib/python3.10/site-packages/urllib3/connectionpool.py:1099: InsecureRequestWarning: Unverified HTTPS request is being made to host 'storage.yandexcloud.net'. Adding certificate verification is strongly advised. See: https://urllib3.readthedocs.io/en/latest/advanced-usage.html#tls-warnings\n",
      "  warnings.warn(\n",
      "/home/mle-user/mle_projects/mle-project-sprint-4-v001/.venv/lib/python3.10/site-packages/urllib3/connectionpool.py:1099: InsecureRequestWarning: Unverified HTTPS request is being made to host 'storage.yandexcloud.net'. Adding certificate verification is strongly advised. See: https://urllib3.readthedocs.io/en/latest/advanced-usage.html#tls-warnings\n",
      "  warnings.warn(\n",
      "/home/mle-user/mle_projects/mle-project-sprint-4-v001/.venv/lib/python3.10/site-packages/urllib3/connectionpool.py:1099: InsecureRequestWarning: Unverified HTTPS request is being made to host 'storage.yandexcloud.net'. Adding certificate verification is strongly advised. See: https://urllib3.readthedocs.io/en/latest/advanced-usage.html#tls-warnings\n",
      "  warnings.warn(\n",
      "/home/mle-user/mle_projects/mle-project-sprint-4-v001/.venv/lib/python3.10/site-packages/urllib3/connectionpool.py:1099: InsecureRequestWarning: Unverified HTTPS request is being made to host 'storage.yandexcloud.net'. Adding certificate verification is strongly advised. See: https://urllib3.readthedocs.io/en/latest/advanced-usage.html#tls-warnings\n",
      "  warnings.warn(\n",
      "/home/mle-user/mle_projects/mle-project-sprint-4-v001/.venv/lib/python3.10/site-packages/urllib3/connectionpool.py:1099: InsecureRequestWarning: Unverified HTTPS request is being made to host 'storage.yandexcloud.net'. Adding certificate verification is strongly advised. See: https://urllib3.readthedocs.io/en/latest/advanced-usage.html#tls-warnings\n",
      "  warnings.warn(\n",
      "/home/mle-user/mle_projects/mle-project-sprint-4-v001/.venv/lib/python3.10/site-packages/urllib3/connectionpool.py:1099: InsecureRequestWarning: Unverified HTTPS request is being made to host 'storage.yandexcloud.net'. Adding certificate verification is strongly advised. See: https://urllib3.readthedocs.io/en/latest/advanced-usage.html#tls-warnings\n",
      "  warnings.warn(\n",
      "/home/mle-user/mle_projects/mle-project-sprint-4-v001/.venv/lib/python3.10/site-packages/urllib3/connectionpool.py:1099: InsecureRequestWarning: Unverified HTTPS request is being made to host 'storage.yandexcloud.net'. Adding certificate verification is strongly advised. See: https://urllib3.readthedocs.io/en/latest/advanced-usage.html#tls-warnings\n",
      "  warnings.warn(\n",
      "/home/mle-user/mle_projects/mle-project-sprint-4-v001/.venv/lib/python3.10/site-packages/urllib3/connectionpool.py:1099: InsecureRequestWarning: Unverified HTTPS request is being made to host 'storage.yandexcloud.net'. Adding certificate verification is strongly advised. See: https://urllib3.readthedocs.io/en/latest/advanced-usage.html#tls-warnings\n",
      "  warnings.warn(\n",
      "/home/mle-user/mle_projects/mle-project-sprint-4-v001/.venv/lib/python3.10/site-packages/urllib3/connectionpool.py:1099: InsecureRequestWarning: Unverified HTTPS request is being made to host 'storage.yandexcloud.net'. Adding certificate verification is strongly advised. See: https://urllib3.readthedocs.io/en/latest/advanced-usage.html#tls-warnings\n",
      "  warnings.warn(\n",
      "/home/mle-user/mle_projects/mle-project-sprint-4-v001/.venv/lib/python3.10/site-packages/urllib3/connectionpool.py:1099: InsecureRequestWarning: Unverified HTTPS request is being made to host 'storage.yandexcloud.net'. Adding certificate verification is strongly advised. See: https://urllib3.readthedocs.io/en/latest/advanced-usage.html#tls-warnings\n",
      "  warnings.warn(\n",
      "/home/mle-user/mle_projects/mle-project-sprint-4-v001/.venv/lib/python3.10/site-packages/urllib3/connectionpool.py:1099: InsecureRequestWarning: Unverified HTTPS request is being made to host 'storage.yandexcloud.net'. Adding certificate verification is strongly advised. See: https://urllib3.readthedocs.io/en/latest/advanced-usage.html#tls-warnings\n",
      "  warnings.warn(\n",
      "/home/mle-user/mle_projects/mle-project-sprint-4-v001/.venv/lib/python3.10/site-packages/urllib3/connectionpool.py:1099: InsecureRequestWarning: Unverified HTTPS request is being made to host 'storage.yandexcloud.net'. Adding certificate verification is strongly advised. See: https://urllib3.readthedocs.io/en/latest/advanced-usage.html#tls-warnings\n",
      "  warnings.warn(\n",
      "/home/mle-user/mle_projects/mle-project-sprint-4-v001/.venv/lib/python3.10/site-packages/urllib3/connectionpool.py:1099: InsecureRequestWarning: Unverified HTTPS request is being made to host 'storage.yandexcloud.net'. Adding certificate verification is strongly advised. See: https://urllib3.readthedocs.io/en/latest/advanced-usage.html#tls-warnings\n",
      "  warnings.warn(\n",
      "/home/mle-user/mle_projects/mle-project-sprint-4-v001/.venv/lib/python3.10/site-packages/urllib3/connectionpool.py:1099: InsecureRequestWarning: Unverified HTTPS request is being made to host 'storage.yandexcloud.net'. Adding certificate verification is strongly advised. See: https://urllib3.readthedocs.io/en/latest/advanced-usage.html#tls-warnings\n",
      "  warnings.warn(\n",
      "/home/mle-user/mle_projects/mle-project-sprint-4-v001/.venv/lib/python3.10/site-packages/urllib3/connectionpool.py:1099: InsecureRequestWarning: Unverified HTTPS request is being made to host 'storage.yandexcloud.net'. Adding certificate verification is strongly advised. See: https://urllib3.readthedocs.io/en/latest/advanced-usage.html#tls-warnings\n",
      "  warnings.warn(\n",
      "/home/mle-user/mle_projects/mle-project-sprint-4-v001/.venv/lib/python3.10/site-packages/urllib3/connectionpool.py:1099: InsecureRequestWarning: Unverified HTTPS request is being made to host 'storage.yandexcloud.net'. Adding certificate verification is strongly advised. See: https://urllib3.readthedocs.io/en/latest/advanced-usage.html#tls-warnings\n",
      "  warnings.warn(\n",
      "/home/mle-user/mle_projects/mle-project-sprint-4-v001/.venv/lib/python3.10/site-packages/urllib3/connectionpool.py:1099: InsecureRequestWarning: Unverified HTTPS request is being made to host 'storage.yandexcloud.net'. Adding certificate verification is strongly advised. See: https://urllib3.readthedocs.io/en/latest/advanced-usage.html#tls-warnings\n",
      "  warnings.warn(\n",
      "/home/mle-user/mle_projects/mle-project-sprint-4-v001/.venv/lib/python3.10/site-packages/urllib3/connectionpool.py:1099: InsecureRequestWarning: Unverified HTTPS request is being made to host 'storage.yandexcloud.net'. Adding certificate verification is strongly advised. See: https://urllib3.readthedocs.io/en/latest/advanced-usage.html#tls-warnings\n",
      "  warnings.warn(\n",
      "/home/mle-user/mle_projects/mle-project-sprint-4-v001/.venv/lib/python3.10/site-packages/urllib3/connectionpool.py:1099: InsecureRequestWarning: Unverified HTTPS request is being made to host 'storage.yandexcloud.net'. Adding certificate verification is strongly advised. See: https://urllib3.readthedocs.io/en/latest/advanced-usage.html#tls-warnings\n",
      "  warnings.warn(\n",
      "/home/mle-user/mle_projects/mle-project-sprint-4-v001/.venv/lib/python3.10/site-packages/urllib3/connectionpool.py:1099: InsecureRequestWarning: Unverified HTTPS request is being made to host 'storage.yandexcloud.net'. Adding certificate verification is strongly advised. See: https://urllib3.readthedocs.io/en/latest/advanced-usage.html#tls-warnings\n",
      "  warnings.warn(\n",
      "/home/mle-user/mle_projects/mle-project-sprint-4-v001/.venv/lib/python3.10/site-packages/urllib3/connectionpool.py:1099: InsecureRequestWarning: Unverified HTTPS request is being made to host 'storage.yandexcloud.net'. Adding certificate verification is strongly advised. See: https://urllib3.readthedocs.io/en/latest/advanced-usage.html#tls-warnings\n",
      "  warnings.warn(\n",
      "/home/mle-user/mle_projects/mle-project-sprint-4-v001/.venv/lib/python3.10/site-packages/urllib3/connectionpool.py:1099: InsecureRequestWarning: Unverified HTTPS request is being made to host 'storage.yandexcloud.net'. Adding certificate verification is strongly advised. See: https://urllib3.readthedocs.io/en/latest/advanced-usage.html#tls-warnings\n",
      "  warnings.warn(\n",
      "/home/mle-user/mle_projects/mle-project-sprint-4-v001/.venv/lib/python3.10/site-packages/urllib3/connectionpool.py:1099: InsecureRequestWarning: Unverified HTTPS request is being made to host 'storage.yandexcloud.net'. Adding certificate verification is strongly advised. See: https://urllib3.readthedocs.io/en/latest/advanced-usage.html#tls-warnings\n",
      "  warnings.warn(\n",
      "/home/mle-user/mle_projects/mle-project-sprint-4-v001/.venv/lib/python3.10/site-packages/urllib3/connectionpool.py:1099: InsecureRequestWarning: Unverified HTTPS request is being made to host 'storage.yandexcloud.net'. Adding certificate verification is strongly advised. See: https://urllib3.readthedocs.io/en/latest/advanced-usage.html#tls-warnings\n",
      "  warnings.warn(\n",
      "/home/mle-user/mle_projects/mle-project-sprint-4-v001/.venv/lib/python3.10/site-packages/urllib3/connectionpool.py:1099: InsecureRequestWarning: Unverified HTTPS request is being made to host 'storage.yandexcloud.net'. Adding certificate verification is strongly advised. See: https://urllib3.readthedocs.io/en/latest/advanced-usage.html#tls-warnings\n",
      "  warnings.warn(\n",
      "/home/mle-user/mle_projects/mle-project-sprint-4-v001/.venv/lib/python3.10/site-packages/urllib3/connectionpool.py:1099: InsecureRequestWarning: Unverified HTTPS request is being made to host 'storage.yandexcloud.net'. Adding certificate verification is strongly advised. See: https://urllib3.readthedocs.io/en/latest/advanced-usage.html#tls-warnings\n",
      "  warnings.warn(\n",
      "/home/mle-user/mle_projects/mle-project-sprint-4-v001/.venv/lib/python3.10/site-packages/urllib3/connectionpool.py:1099: InsecureRequestWarning: Unverified HTTPS request is being made to host 'storage.yandexcloud.net'. Adding certificate verification is strongly advised. See: https://urllib3.readthedocs.io/en/latest/advanced-usage.html#tls-warnings\n",
      "  warnings.warn(\n",
      "/home/mle-user/mle_projects/mle-project-sprint-4-v001/.venv/lib/python3.10/site-packages/urllib3/connectionpool.py:1099: InsecureRequestWarning: Unverified HTTPS request is being made to host 'storage.yandexcloud.net'. Adding certificate verification is strongly advised. See: https://urllib3.readthedocs.io/en/latest/advanced-usage.html#tls-warnings\n",
      "  warnings.warn(\n",
      "/home/mle-user/mle_projects/mle-project-sprint-4-v001/.venv/lib/python3.10/site-packages/urllib3/connectionpool.py:1099: InsecureRequestWarning: Unverified HTTPS request is being made to host 'storage.yandexcloud.net'. Adding certificate verification is strongly advised. See: https://urllib3.readthedocs.io/en/latest/advanced-usage.html#tls-warnings\n",
      "  warnings.warn(\n",
      "/home/mle-user/mle_projects/mle-project-sprint-4-v001/.venv/lib/python3.10/site-packages/urllib3/connectionpool.py:1099: InsecureRequestWarning: Unverified HTTPS request is being made to host 'storage.yandexcloud.net'. Adding certificate verification is strongly advised. See: https://urllib3.readthedocs.io/en/latest/advanced-usage.html#tls-warnings\n",
      "  warnings.warn(\n",
      "/home/mle-user/mle_projects/mle-project-sprint-4-v001/.venv/lib/python3.10/site-packages/urllib3/connectionpool.py:1099: InsecureRequestWarning: Unverified HTTPS request is being made to host 'storage.yandexcloud.net'. Adding certificate verification is strongly advised. See: https://urllib3.readthedocs.io/en/latest/advanced-usage.html#tls-warnings\n",
      "  warnings.warn(\n",
      "/home/mle-user/mle_projects/mle-project-sprint-4-v001/.venv/lib/python3.10/site-packages/urllib3/connectionpool.py:1099: InsecureRequestWarning: Unverified HTTPS request is being made to host 'storage.yandexcloud.net'. Adding certificate verification is strongly advised. See: https://urllib3.readthedocs.io/en/latest/advanced-usage.html#tls-warnings\n",
      "  warnings.warn(\n",
      "/home/mle-user/mle_projects/mle-project-sprint-4-v001/.venv/lib/python3.10/site-packages/urllib3/connectionpool.py:1099: InsecureRequestWarning: Unverified HTTPS request is being made to host 'storage.yandexcloud.net'. Adding certificate verification is strongly advised. See: https://urllib3.readthedocs.io/en/latest/advanced-usage.html#tls-warnings\n",
      "  warnings.warn(\n",
      "/home/mle-user/mle_projects/mle-project-sprint-4-v001/.venv/lib/python3.10/site-packages/urllib3/connectionpool.py:1099: InsecureRequestWarning: Unverified HTTPS request is being made to host 'storage.yandexcloud.net'. Adding certificate verification is strongly advised. See: https://urllib3.readthedocs.io/en/latest/advanced-usage.html#tls-warnings\n",
      "  warnings.warn(\n",
      "/home/mle-user/mle_projects/mle-project-sprint-4-v001/.venv/lib/python3.10/site-packages/urllib3/connectionpool.py:1099: InsecureRequestWarning: Unverified HTTPS request is being made to host 'storage.yandexcloud.net'. Adding certificate verification is strongly advised. See: https://urllib3.readthedocs.io/en/latest/advanced-usage.html#tls-warnings\n",
      "  warnings.warn(\n"
     ]
    },
    {
     "name": "stdout",
     "output_type": "stream",
     "text": [
      "Файл events.parquet загружен в s3-student-mle-20240822-03e9c191e2/recsys/data/recsys/data/events.parquet\n"
     ]
    },
    {
     "name": "stderr",
     "output_type": "stream",
     "text": [
      "/home/mle-user/mle_projects/mle-project-sprint-4-v001/.venv/lib/python3.10/site-packages/urllib3/connectionpool.py:1099: InsecureRequestWarning: Unverified HTTPS request is being made to host 'storage.yandexcloud.net'. Adding certificate verification is strongly advised. See: https://urllib3.readthedocs.io/en/latest/advanced-usage.html#tls-warnings\n",
      "  warnings.warn(\n"
     ]
    }
   ],
   "source": [
    "import os\n",
    "import boto3\n",
    "from botocore.config import Config\n",
    "from dotenv import load_dotenv\n",
    "\n",
    "# Загрузка переменных окружения из файла .env\n",
    "load_dotenv()\n",
    "\n",
    "\n",
    "def upload_file_to_s3(file_name, object_name=None):\n",
    "    \"\"\"Загружает файл в указанный бакет S3.\"\"\"\n",
    "    # Создание клиента S3\n",
    "    # Настройки S3\n",
    "    bucket_name = 's3-student-mle-20240822-03e9c191e2'\n",
    "    ENDPOINT = \"https://storage.yandexcloud.net\"\n",
    "    aws_access_key_id = os.getenv('AWS_ACCESS_KEY_ID')\n",
    "    aws_secret_access_key = os.getenv('AWS_SECRET_ACCESS_KEY')\n",
    "\n",
    "    cursor = boto3.client(\n",
    "        \"s3\",\n",
    "        endpoint_url=ENDPOINT,\n",
    "        aws_access_key_id=aws_access_key_id,\n",
    "        aws_secret_access_key=aws_secret_access_key,\n",
    "        config=Config(signature_version='s3v4'),\n",
    "        verify=False,\n",
    "    )\n",
    "    if object_name is None:\n",
    "        object_name = os.path.basename(file_name)\n",
    "\n",
    "    try:\n",
    "        cursor.upload_file(file_name, bucket_name, object_name)\n",
    "        print(f\"Файл {file_name} загружен в {bucket_name}/recsys/data/{object_name}\")\n",
    "    except Exception as e:\n",
    "        print(f\"Ошибка при загрузке файла: {e}\")\n",
    "\n",
    "upload_file_to_s3('items.parquet', '/recsys/data/recsys/data/items.parquet')\n",
    "upload_file_to_s3('events.parquet', 'recsys/data/events.parquet')"
   ]
  },
  {
   "cell_type": "markdown",
   "id": "72ecbbed-c560-44d9-9c14-86c7dc76f399",
   "metadata": {},
   "source": [
    "# Очистка памяти"
   ]
  },
  {
   "cell_type": "markdown",
   "id": "b5358ede-ba6e-4c4f-bd73-5b9344f0ba79",
   "metadata": {},
   "source": [
    "Здесь, может понадобится очистка памяти для высвобождения ресурсов для выполнения кода ниже. \n",
    "\n",
    "Приведите соответствующие код, комментарии, например:\n",
    "- код для удаление более ненужных переменных,\n",
    "- комментарий, что следует перезапустить kernel, выполнить такие-то начальные секции и продолжить с этапа 3."
   ]
  },
  {
   "cell_type": "markdown",
   "id": "cceab125",
   "metadata": {},
   "source": [
    "Перезагружаем ядро  \n",
    "Пандас не может напрямую вытащить данные из моего s3 из-за ограничений доступа - поэтому читаем через boto3 и io\n",
    "Можно просто выполнить код ниже"
   ]
  },
  {
   "cell_type": "code",
   "execution_count": 81,
   "id": "767fe920-e12e-4ad8-b04e-56e8091fac9f",
   "metadata": {},
   "outputs": [],
   "source": [
    "import os\n",
    "import pandas as pd\n",
    "import dotenv\n",
    "import io\n",
    "import boto3\n",
    "import joblib\n",
    "from botocore.config import Config\n",
    "import numpy as np\n",
    "import implicit\n",
    "from scipy import sparse\n",
    "dotenv.load_dotenv()\n",
    "\n",
    "\n",
    "bucket_name = 's3-student-mle-20240822-03e9c191e2'\n",
    "ENDPOINT = \"https://storage.yandexcloud.net\"\n",
    "aws_access_key_id = os.getenv('AWS_ACCESS_KEY_ID')\n",
    "aws_secret_access_key = os.getenv('AWS_SECRET_ACCESS_KEY')\n",
    "\n",
    "def upload_file_to_s3(file_name, bucket, object_name=None):\n",
    "    \"\"\"Загружает файл в указанный бакет S3.\"\"\"\n",
    "\n",
    "    cursor = boto3.client(\n",
    "        \"s3\",\n",
    "        endpoint_url=ENDPOINT,\n",
    "        aws_access_key_id=aws_access_key_id,\n",
    "        aws_secret_access_key=aws_secret_access_key,\n",
    "        config=Config(signature_version='s3v4'),\n",
    "        verify=False,\n",
    "    )\n",
    "    if object_name is None:\n",
    "        object_name = os.path.basename(file_name)\n",
    "\n",
    "    try:\n",
    "        cursor.upload_file(file_name, bucket, object_name)\n",
    "        print(f\"Файл {file_name} загружен в {bucket}/recsys/data/{object_name}\")\n",
    "    except Exception as e:\n",
    "        print(f\"Ошибка при загрузке файла: {e}\")\n",
    "\n",
    "def get_data_s3(path):\n",
    "    s3 = boto3.client(\n",
    "        \"s3\",\n",
    "        endpoint_url=ENDPOINT,\n",
    "        aws_access_key_id=aws_access_key_id,\n",
    "        aws_secret_access_key=aws_secret_access_key,\n",
    "        config=Config(signature_version='s3v4'),\n",
    "        verify=False,\n",
    "    )\n",
    "    response = s3.get_object(Bucket=bucket_name, Key=path)\n",
    "    buffer = io.BytesIO(response['Body'].read())\n",
    "    df = pd.read_parquet(buffer)\n",
    "    return df\n",
    "\n",
    "def get_data(part=10):\n",
    "    items = get_data_s3(path='recsys/data/items.parquet')\n",
    "    events = get_data_s3(path='recsys/data/events.parquet')\n",
    "\n",
    "    # если брать все данные о прослушиввнии, то ядро падает - берем выборку поменьше\n",
    "    sample_events = events.sample(frac=1/part, random_state=42)\n",
    "\n",
    "    merged_df = sample_events.merge(items, on='track_id', how='inner')\n",
    "\n",
    "    return merged_df\n",
    "\n",
    "def compute_precision_recall(recommendations_df, true_labels_df):\n",
    "    # Объединяем рекомендации с истинными метками\n",
    "    merged_df = recommendations_df.merge(true_labels_df, on=[\"user_id\", \"track_id\"], how=\"left\", indicator=True)\n",
    "    \n",
    "    # True Positives: правильно рекомендованные треки\n",
    "    true_positives = merged_df[merged_df['_merge'] == 'both'].shape[0]\n",
    "    \n",
    "    # Total Recommendations: общее количество рекомендованных треков\n",
    "    total_recommendations = recommendations_df.shape[0]\n",
    "    \n",
    "    # Total Relevant: общее количество релевантных треков (из test)\n",
    "    total_relevant = true_labels_df.shape[0]\n",
    "    \n",
    "    # Precision и Recall\n",
    "    precision = true_positives / total_recommendations if total_recommendations > 0 else 0\n",
    "    recall = true_positives / total_relevant if total_relevant > 0 else 0\n",
    "    \n",
    "    return precision, recall\n",
    "\n",
    "def coverage_at_k(recommendations_df, track_ids):\n",
    "    unique_recommended_tracks = recommendations_df['track_id'].nunique()\n",
    "    total_tracks = len(track_ids)\n",
    "\n",
    "    coverage = unique_recommended_tracks / total_tracks if total_tracks > 0 else 0\n",
    "    return coverage\n",
    "\n",
    "def novelty_check(recommendations, data):\n",
    "    data[\"read\"] = True\n",
    "    recommendations = recommendations.merge(\n",
    "        data[['user_id', 'track_id', 'read']],\n",
    "        on=[\"user_id\", \"track_id\"], how=\"left\"\n",
    "    )\n",
    "    # 2. Заполним NaN значением False для тех, кто не читал трек\n",
    "    recommendations[\"read\"] = recommendations[\"read\"].fillna(False).astype(\"bool\")\n",
    "\n",
    "    # 3. Проставим ранги по убыванию score\n",
    "    recommendations = recommendations.sort_values(by=[\"user_id\", \"score\"], ascending=[True, False])\n",
    "    recommendations[\"rank\"] = recommendations.groupby(\"user_id\").cumcount() + 1\n",
    "\n",
    "    # 4. Посчитаем novelty по пользователям\n",
    "    novelty_5 = (1 - recommendations.groupby(\"user_id\")[\"read\"].mean())\n",
    "\n",
    "    # 5. Посчитаем средний novelty\n",
    "    average_novelty_5 = novelty_5.mean()\n",
    "\n",
    "    return average_novelty_5\n"
   ]
  },
  {
   "cell_type": "markdown",
   "id": "708503df-ee89-4cf3-8489-093dc478e2a8",
   "metadata": {},
   "source": [
    "# === ЭТАП 3 ==="
   ]
  },
  {
   "cell_type": "markdown",
   "id": "fd77de22-e10f-4b42-85c1-8fb6f805fe68",
   "metadata": {},
   "source": [
    "# Загрузка данных"
   ]
  },
  {
   "cell_type": "markdown",
   "id": "780a4241-1ecd-4a3e-bbb3-fc2f6ca94f68",
   "metadata": {},
   "source": [
    "Если необходимо, то загружаем items.parquet, events.parquet."
   ]
  },
  {
   "cell_type": "code",
   "execution_count": 41,
   "id": "f19fc8a5-bd2c-40d7-864a-ee75aca6d512",
   "metadata": {},
   "outputs": [
    {
     "name": "stderr",
     "output_type": "stream",
     "text": [
      "/home/mle-user/mle_projects/mle-project-sprint-4-v001/.venv/lib/python3.10/site-packages/urllib3/connectionpool.py:1099: InsecureRequestWarning: Unverified HTTPS request is being made to host 'storage.yandexcloud.net'. Adding certificate verification is strongly advised. See: https://urllib3.readthedocs.io/en/latest/advanced-usage.html#tls-warnings\n",
      "  warnings.warn(\n",
      "/home/mle-user/mle_projects/mle-project-sprint-4-v001/.venv/lib/python3.10/site-packages/urllib3/connectionpool.py:1099: InsecureRequestWarning: Unverified HTTPS request is being made to host 'storage.yandexcloud.net'. Adding certificate verification is strongly advised. See: https://urllib3.readthedocs.io/en/latest/advanced-usage.html#tls-warnings\n",
      "  warnings.warn(\n"
     ]
    }
   ],
   "source": [
    "# если брать все данные о прослушиввнии, то ядро падает - берем выборку поменьше\n",
    "merged_df = get_data(part=1000)\n",
    "# Удаление колонки album_name\n",
    "merged_df = merged_df.drop(columns=['album_name'])\n",
    "# Удаление дубликатов\n",
    "merged_df = merged_df.drop_duplicates()"
   ]
  },
  {
   "cell_type": "markdown",
   "id": "a694c023-6477-490b-939d-1cfa6f5f1b72",
   "metadata": {},
   "source": [
    "# Разбиение данных"
   ]
  },
  {
   "cell_type": "markdown",
   "id": "fbd5f6e0-54e7-4428-8678-eabce505d82c",
   "metadata": {},
   "source": [
    "Разбиваем данные на тренировочную, тестовую выборки."
   ]
  },
  {
   "cell_type": "code",
   "execution_count": 42,
   "id": "6529f14e",
   "metadata": {},
   "outputs": [
    {
     "name": "stdout",
     "output_type": "stream",
     "text": [
      "Train size: 382020, Test size: 95505\n"
     ]
    }
   ],
   "source": [
    "\"\"\"Метод в задании\n",
    "# Определяем дату для разделения\n",
    "split_date = pd.to_datetime('2022-12-16')\n",
    "# Разделяем DataFrame events на тестовую и тренировочную выборки\n",
    "train = merged_df[merged_df['started_at'] < split_date]\n",
    "test = merged_df[merged_df['started_at'] >= split_date]\n",
    "print(f\"Train size: {len(train)}, Test size: {len(test)}\")\n",
    "\"\"\"\n",
    "\n",
    "\"\"\"Выбранный метод\"\"\"\n",
    "from sklearn.model_selection import train_test_split\n",
    "merged_df['started_at'] = pd.to_datetime(merged_df['started_at'])\n",
    "train, test = train_test_split(merged_df, test_size=0.2, random_state=42)\n",
    "\n",
    "# Выводим размеры выборок\n",
    "print(f\"Train size: {len(train)}, Test size: {len(test)}\")"
   ]
  },
  {
   "cell_type": "markdown",
   "id": "b6c4a3fe",
   "metadata": {},
   "source": [
    "<b>Комментарий от ревьюера v1</b>\n",
    "\n",
    "<div class=\"alert alert-block alert-success\">\n",
    "    \n",
    "✔️ Отлично, выборки train / test сформированы. \n",
    "\n",
    "Выборки train / test можно получать несколькими способами (см. картинку ниже)\n",
    "</div>"
   ]
  },
  {
   "attachments": {
    "%D1%80%D0%B0%D0%B7%D0%B1%D0%B8%D0%B5%D0%BD%D0%B8%D0%B5.PNG": {
     "image/png": "[encoded data removed]"
    }
   },
   "cell_type": "markdown",
   "id": "03131973",
   "metadata": {},
   "source": [
    "![%D1%80%D0%B0%D0%B7%D0%B1%D0%B8%D0%B5%D0%BD%D0%B8%D0%B5.PNG](attachment:%D1%80%D0%B0%D0%B7%D0%B1%D0%B8%D0%B5%D0%BD%D0%B8%D0%B5.PNG)"
   ]
  },
  {
   "cell_type": "markdown",
   "id": "a99681f6",
   "metadata": {},
   "source": [
    "[Ссылка на картинку](https://disk.yandex.ru/i/L6hBTf6KLYRa-g)"
   ]
  },
  {
   "cell_type": "markdown",
   "id": "be6d7347",
   "metadata": {},
   "source": [
    "<div class=\"alert alert-block alert-info\">\n",
    "<b>Комментарий студента:</b> \n",
    "Хотя в задании указан иной метод нежели предлагаемый, почему бы не попробовать его\n",
    "</div>\n",
    "\n",
    "\n",
    "\n",
    "\n",
    "\n",
    "\n"
   ]
  },
  {
   "cell_type": "markdown",
   "id": "9131c7e6-8852-4556-b510-51f7253cc299",
   "metadata": {},
   "source": [
    "# Топ популярных"
   ]
  },
  {
   "cell_type": "code",
   "execution_count": 6,
   "id": "e16998c3",
   "metadata": {},
   "outputs": [
    {
     "name": "stdout",
     "output_type": "stream",
     "text": [
      "Количество холодных пользователей: 787\n"
     ]
    }
   ],
   "source": [
    "# опредяем холодных пользователей\n",
    "# Находим user_id из тестовой выборки, которые отсутствуют в тренировочной\n",
    "train_user_ids = set(train['user_id'])\n",
    "cold_users = test[~test['user_id'].isin(train_user_ids)]\n",
    "# Выводим уникальные холодные user_id\n",
    "unique_cold_users = cold_users['user_id'].unique()\n",
    "print(f\"Количество холодных пользователей: {len(unique_cold_users)}\")"
   ]
  },
  {
   "cell_type": "markdown",
   "id": "dd70d43a-88cc-4719-b291-feaed7136f30",
   "metadata": {},
   "source": [
    "Рассчитаем рекомендации как топ популярных."
   ]
  },
  {
   "cell_type": "code",
   "execution_count": 5,
   "id": "038594f9",
   "metadata": {},
   "outputs": [
    {
     "name": "stdout",
     "output_type": "stream",
     "text": [
      "Файл top_popular.parquet загружен в s3-student-mle-20240822-03e9c191e2/recsys/data/recsys/recommendations/top_popular.parquet\n"
     ]
    },
    {
     "name": "stderr",
     "output_type": "stream",
     "text": [
      "/home/mle-user/mle_projects/mle-project-sprint-4-v001/.venv/lib/python3.10/site-packages/urllib3/connectionpool.py:1099: InsecureRequestWarning: Unverified HTTPS request is being made to host 'storage.yandexcloud.net'. Adding certificate verification is strongly advised. See: https://urllib3.readthedocs.io/en/latest/advanced-usage.html#tls-warnings\n",
      "  warnings.warn(\n"
     ]
    }
   ],
   "source": [
    "# определяем наиболее популярные треки\n",
    "track_listens = train.groupby('track_id').size().reset_index(name='listen_count')\n",
    "track_listens = track_listens.merge(train, on='track_id', how='left')\n",
    "\n",
    "# Сортируем по количеству прослушиваний и выбираем топ-100\n",
    "top_popular = track_listens.sort_values(by='listen_count', ascending=False).head(100)\n",
    "#Загружаем в s3\n",
    "top_popular.to_parquet('top_popular.parquet')\n",
    "upload_file_to_s3('top_popular.parquet', bucket_name, 'recsys/recommendations/top_popular.parquet')"
   ]
  },
  {
   "cell_type": "code",
   "execution_count": 34,
   "id": "60f2e534",
   "metadata": {},
   "outputs": [
    {
     "data": {
      "text/html": [
       "<div>\n",
       "<style scoped>\n",
       "    .dataframe tbody tr th:only-of-type {\n",
       "        vertical-align: middle;\n",
       "    }\n",
       "\n",
       "    .dataframe tbody tr th {\n",
       "        vertical-align: top;\n",
       "    }\n",
       "\n",
       "    .dataframe thead th {\n",
       "        text-align: right;\n",
       "    }\n",
       "</style>\n",
       "<table border=\"1\" class=\"dataframe\">\n",
       "  <thead>\n",
       "    <tr style=\"text-align: right;\">\n",
       "      <th></th>\n",
       "      <th>user_id</th>\n",
       "      <th>track_id</th>\n",
       "      <th>track_seq</th>\n",
       "      <th>started_at</th>\n",
       "      <th>artist_name</th>\n",
       "      <th>track_name</th>\n",
       "      <th>genre_name</th>\n",
       "    </tr>\n",
       "  </thead>\n",
       "  <tbody>\n",
       "    <tr>\n",
       "      <th>0</th>\n",
       "      <td>844258</td>\n",
       "      <td>3581309</td>\n",
       "      <td>131</td>\n",
       "      <td>2022-06-05</td>\n",
       "      <td>Gotye</td>\n",
       "      <td>Somebody That I Used To Know</td>\n",
       "      <td>pop</td>\n",
       "    </tr>\n",
       "    <tr>\n",
       "      <th>136</th>\n",
       "      <td>844258</td>\n",
       "      <td>3581309</td>\n",
       "      <td>131</td>\n",
       "      <td>2022-06-05</td>\n",
       "      <td>Kimbra</td>\n",
       "      <td>Somebody That I Used To Know</td>\n",
       "      <td>pop</td>\n",
       "    </tr>\n",
       "    <tr>\n",
       "      <th>272</th>\n",
       "      <td>235569</td>\n",
       "      <td>3581309</td>\n",
       "      <td>11</td>\n",
       "      <td>2022-12-13</td>\n",
       "      <td>Gotye</td>\n",
       "      <td>Somebody That I Used To Know</td>\n",
       "      <td>pop</td>\n",
       "    </tr>\n",
       "    <tr>\n",
       "      <th>408</th>\n",
       "      <td>235569</td>\n",
       "      <td>3581309</td>\n",
       "      <td>11</td>\n",
       "      <td>2022-12-13</td>\n",
       "      <td>Kimbra</td>\n",
       "      <td>Somebody That I Used To Know</td>\n",
       "      <td>pop</td>\n",
       "    </tr>\n",
       "    <tr>\n",
       "      <th>544</th>\n",
       "      <td>139915</td>\n",
       "      <td>3581309</td>\n",
       "      <td>4</td>\n",
       "      <td>2022-07-20</td>\n",
       "      <td>Gotye</td>\n",
       "      <td>Somebody That I Used To Know</td>\n",
       "      <td>pop</td>\n",
       "    </tr>\n",
       "    <tr>\n",
       "      <th>...</th>\n",
       "      <td>...</td>\n",
       "      <td>...</td>\n",
       "      <td>...</td>\n",
       "      <td>...</td>\n",
       "      <td>...</td>\n",
       "      <td>...</td>\n",
       "      <td>...</td>\n",
       "    </tr>\n",
       "    <tr>\n",
       "      <th>142973</th>\n",
       "      <td>729714</td>\n",
       "      <td>64933485</td>\n",
       "      <td>13</td>\n",
       "      <td>2022-10-15</td>\n",
       "      <td>Loqiemean</td>\n",
       "      <td>КОАЛКО</td>\n",
       "      <td>rusrap</td>\n",
       "    </tr>\n",
       "    <tr>\n",
       "      <th>142974</th>\n",
       "      <td>729714</td>\n",
       "      <td>64933485</td>\n",
       "      <td>13</td>\n",
       "      <td>2022-10-15</td>\n",
       "      <td>Loqiemean</td>\n",
       "      <td>КОАЛКО</td>\n",
       "      <td>rap</td>\n",
       "    </tr>\n",
       "    <tr>\n",
       "      <th>142975</th>\n",
       "      <td>361824</td>\n",
       "      <td>19523693</td>\n",
       "      <td>41</td>\n",
       "      <td>2022-09-30</td>\n",
       "      <td>Marian Hill</td>\n",
       "      <td>One Time</td>\n",
       "      <td>pop</td>\n",
       "    </tr>\n",
       "    <tr>\n",
       "      <th>142982</th>\n",
       "      <td>361824</td>\n",
       "      <td>19523693</td>\n",
       "      <td>41</td>\n",
       "      <td>2022-09-30</td>\n",
       "      <td>Marian Hill</td>\n",
       "      <td>One Time</td>\n",
       "      <td>electronics</td>\n",
       "    </tr>\n",
       "    <tr>\n",
       "      <th>142989</th>\n",
       "      <td>556135</td>\n",
       "      <td>87715530</td>\n",
       "      <td>110</td>\n",
       "      <td>2022-12-26</td>\n",
       "      <td>Sam Kim</td>\n",
       "      <td>Love Me Like That</td>\n",
       "      <td>soundtrack</td>\n",
       "    </tr>\n",
       "  </tbody>\n",
       "</table>\n",
       "<p>24032 rows × 7 columns</p>\n",
       "</div>"
      ],
      "text/plain": [
       "        user_id  track_id  track_seq started_at  artist_name  \\\n",
       "0        844258   3581309        131 2022-06-05        Gotye   \n",
       "136      844258   3581309        131 2022-06-05       Kimbra   \n",
       "272      235569   3581309         11 2022-12-13        Gotye   \n",
       "408      235569   3581309         11 2022-12-13       Kimbra   \n",
       "544      139915   3581309          4 2022-07-20        Gotye   \n",
       "...         ...       ...        ...        ...          ...   \n",
       "142973   729714  64933485         13 2022-10-15    Loqiemean   \n",
       "142974   729714  64933485         13 2022-10-15    Loqiemean   \n",
       "142975   361824  19523693         41 2022-09-30  Marian Hill   \n",
       "142982   361824  19523693         41 2022-09-30  Marian Hill   \n",
       "142989   556135  87715530        110 2022-12-26      Sam Kim   \n",
       "\n",
       "                          track_name   genre_name  \n",
       "0       Somebody That I Used To Know          pop  \n",
       "136     Somebody That I Used To Know          pop  \n",
       "272     Somebody That I Used To Know          pop  \n",
       "408     Somebody That I Used To Know          pop  \n",
       "544     Somebody That I Used To Know          pop  \n",
       "...                              ...          ...  \n",
       "142973                        КОАЛКО       rusrap  \n",
       "142974                        КОАЛКО          rap  \n",
       "142975                      One Time          pop  \n",
       "142982                      One Time  electronics  \n",
       "142989             Love Me Like That   soundtrack  \n",
       "\n",
       "[24032 rows x 7 columns]"
      ]
     },
     "execution_count": 34,
     "metadata": {},
     "output_type": "execute_result"
    }
   ],
   "source": [
    "merged_df"
   ]
  },
  {
   "cell_type": "markdown",
   "id": "7fad862a",
   "metadata": {},
   "source": [
    "<b>Комментарий от ревьюера v1</b>\n",
    "\n",
    "<div class=\"alert alert-block alert-success\">\n",
    "✔️ Отлично, неперсональные рекомендации сформированы!\n",
    "</div>"
   ]
  },
  {
   "cell_type": "markdown",
   "id": "2ad231f2-6158-421a-b7fa-01d8bc3ed572",
   "metadata": {},
   "source": [
    "# Персональные"
   ]
  },
  {
   "cell_type": "markdown",
   "id": "86159460-cd9d-4b63-8248-604ea3c9aebf",
   "metadata": {},
   "source": [
    "Рассчитаем персональные рекомендации."
   ]
  },
  {
   "cell_type": "code",
   "execution_count": 94,
   "id": "d2944822-569c-4f9b-82dc-70a7fa2d542e",
   "metadata": {},
   "outputs": [
    {
     "name": "stderr",
     "output_type": "stream",
     "text": [
      "100%|██████████| 50/50 [00:29<00:00,  1.70it/s]"
     ]
    },
    {
     "name": "stdout",
     "output_type": "stream",
     "text": [
      "Модель сохранена\n"
     ]
    },
    {
     "name": "stderr",
     "output_type": "stream",
     "text": [
      "\n"
     ]
    }
   ],
   "source": [
    "import numpy as np\n",
    "import pandas as pd\n",
    "from scipy import sparse\n",
    "from implicit.als import AlternatingLeastSquares\n",
    "import sklearn\n",
    "import joblib\n",
    "\n",
    "# Предполагается, что merged_df, train и test уже определены и содержат необходимые данные.\n",
    "\n",
    "# Кодирование идентификаторов пользователей и треков\n",
    "encoder_user = sklearn.preprocessing.LabelEncoder()\n",
    "encoder_user.fit(merged_df[\"user_id\"])\n",
    "train[\"user_id_enc\"] = encoder_user.transform(train[\"user_id\"])\n",
    "test[\"user_id_enc\"] = encoder_user.transform(test[\"user_id\"])\n",
    "\n",
    "encoder_track = sklearn.preprocessing.LabelEncoder()\n",
    "encoder_track.fit(merged_df[\"track_id\"])\n",
    "train[\"track_id_enc\"] = encoder_track.transform(train[\"track_id\"])\n",
    "test[\"track_id_enc\"] = encoder_track.transform(test[\"track_id\"])\n",
    "\n",
    "# Создание разреженной матрицы формата CSR (бинарная)\n",
    "user_item_matrix_train = sparse.csr_matrix((\n",
    "    np.ones(len(train)),  # Все взаимодействия считаем как 1 (прослушивание)\n",
    "    (train['user_id_enc'], train['track_id_enc'])),\n",
    "    dtype=np.float32)\n",
    "\n",
    "# Обучение модели ALS\n",
    "als_model = AlternatingLeastSquares(factors=50, iterations=50, regularization=0.05, random_state=0)\n",
    "als_model.fit(user_item_matrix_train)\n",
    "\n",
    "joblib.dump(als_model, 'als_model.pkl')\n",
    "print('Модель сохранена')"
   ]
  },
  {
   "cell_type": "code",
   "execution_count": 95,
   "id": "ff6a4ba5",
   "metadata": {},
   "outputs": [
    {
     "name": "stdout",
     "output_type": "stream",
     "text": [
      "             score  user_id  track_id\n",
      "0     5.213895e-12  1173169  17902234\n",
      "1     4.142699e-12  1173169  61565558\n",
      "2     3.370096e-12  1173169   2758009\n",
      "3     3.247738e-12  1173169    178529\n",
      "4     3.189254e-12  1173169    775426\n",
      "...            ...      ...       ...\n",
      "9995  2.876832e-09  1309388  39089632\n",
      "9996  2.866441e-09  1309388    795836\n",
      "9997  2.858990e-09  1309388     88022\n",
      "9998  2.853493e-09  1309388  24899234\n",
      "9999  2.840522e-09  1309388  34483759\n",
      "\n",
      "[10000 rows x 3 columns]\n",
      "Файл personal_als.parquet загружен в s3-student-mle-20240822-03e9c191e2/recsys/data/recsys/recommendations/personal_als.parquet\n"
     ]
    },
    {
     "name": "stderr",
     "output_type": "stream",
     "text": [
      "/home/mle-user/mle_projects/mle-project-sprint-4-v001/.venv/lib/python3.10/site-packages/urllib3/connectionpool.py:1099: InsecureRequestWarning: Unverified HTTPS request is being made to host 'storage.yandexcloud.net'. Adding certificate verification is strongly advised. See: https://urllib3.readthedocs.io/en/latest/advanced-usage.html#tls-warnings\n",
      "  warnings.warn(\n"
     ]
    }
   ],
   "source": [
    "import numpy as np\n",
    "import pandas as pd\n",
    "from scipy import sparse\n",
    "from implicit.als import AlternatingLeastSquares\n",
    "import sklearn\n",
    "import joblib\n",
    "\n",
    "\n",
    "def get_recommendations_als(user_item_matrix, model, user_id, user_encoder, item_encoder, include_seen=True, n=5):\n",
    "    \"\"\"\n",
    "    Возвращает отранжированные рекомендации для заданного пользователя.\n",
    "    \"\"\"\n",
    "    user_id_enc = user_encoder.transform([user_id])[0]\n",
    "    \n",
    "    # Получение рекомендаций от модели ALS\n",
    "    recommendations = model.recommend(\n",
    "         user_id_enc, \n",
    "         user_item_matrix[user_id_enc], \n",
    "         filter_already_liked_items=not include_seen,\n",
    "         N=n)\n",
    "    \n",
    "    # Преобразование в DataFrame\n",
    "    recommendations_df = pd.DataFrame({\n",
    "        \"track_id_enc\": recommendations[0],\n",
    "        \"score\": recommendations[1]\n",
    "    })\n",
    "    \n",
    "    # Обратное преобразование идентификаторов треков\n",
    "    recommendations_df[\"track_id\"] = item_encoder.inverse_transform(recommendations_df[\"track_id_enc\"])\n",
    "    \n",
    "    return recommendations_df\n",
    "\n",
    "# Загрузка модели\n",
    "als_model = joblib.load('als_model.pkl')\n",
    "# Получаем список всех возможных user_id (перекодированных)\n",
    "user_ids_encoded = list(range(len(encoder_user.classes_)))\n",
    "# Случайный выбор 100 пользователей\n",
    "random_users_encoded = np.random.choice(user_ids_encoded, size=100, replace=False)\n",
    "# Получаем рекомендации для случайно выбранных пользователей\n",
    "als_recommendations_list = []\n",
    "\n",
    "for user_id_enc in random_users_encoded:\n",
    "    recommendations = als_model.recommend(\n",
    "        user_id_enc, \n",
    "        user_item_matrix_train[user_id_enc], \n",
    "        filter_already_liked_items=False, N=100)\n",
    "    \n",
    "    # Преобразуем полученные рекомендации в DataFrame\n",
    "    als_recommendations_list.append(pd.DataFrame({\n",
    "        \"user_id_enc\": user_id_enc,\n",
    "        \"track_id_enc\": recommendations[0],\n",
    "        \"score\": recommendations[1]\n",
    "    }))\n",
    "\n",
    "# Объединяем все рекомендации в один DataFrame\n",
    "als_recommendations_df = pd.concat(als_recommendations_list, ignore_index=True)\n",
    "# Приведение типов данных\n",
    "als_recommendations_df[\"track_id_enc\"] = als_recommendations_df[\"track_id_enc\"].astype(\"int\")\n",
    "als_recommendations_df[\"score\"] = als_recommendations_df[\"score\"].astype(\"float\")\n",
    "\n",
    "# Получение изначальных идентификаторов пользователей и треков\n",
    "als_recommendations_df[\"user_id\"] = encoder_user.inverse_transform(als_recommendations_df[\"user_id_enc\"])\n",
    "als_recommendations_df[\"track_id\"] = encoder_track.inverse_transform(als_recommendations_df[\"track_id_enc\"])\n",
    "\n",
    "# Удаляем временные колонки с закодированными идентификаторами\n",
    "als_recommendations_df.drop(columns=[\"user_id_enc\", \"track_id_enc\"], inplace=True)\n",
    "\n",
    "print(als_recommendations_df)\n",
    "\n",
    "# Сохранение результатов в файл (например, в формате Parquet)\n",
    "upload_file_to_s3('personal_als.parquet', bucket_name, 'recsys/recommendations/personal_als.parquet')"
   ]
  },
  {
   "cell_type": "code",
   "execution_count": 96,
   "id": "e13b4e2a",
   "metadata": {},
   "outputs": [
    {
     "name": "stdout",
     "output_type": "stream",
     "text": [
      "Precision: 0.0240\n",
      "Recall: 0.0003\n",
      "Coverage: 0.0024\n",
      "Novelty: 0.9806\n"
     ]
    }
   ],
   "source": [
    "# Оценка рекомендаций\n",
    "# Создаем рекомендации для 200 пользователей в тестовом наборе\n",
    "n_recommendations = 5\n",
    "random_users = test['user_id'].unique()\n",
    "sampled_users = np.random.choice(random_users, size=200, replace=False)\n",
    "# Создаем рекомендации для выбранных пользователей\n",
    "n_recommendations = 5\n",
    "all_recommendations = []\n",
    "\n",
    "als_model = joblib.load('als_model.pkl')\n",
    "for user_id in sampled_users:\n",
    "    recs = get_recommendations_als(user_item_matrix_train, als_model, user_id, encoder_user, encoder_track, n=n_recommendations)\n",
    "    recs['user_id'] = user_id  # Добавляем идентификатор пользователя\n",
    "    all_recommendations.append(recs)\n",
    "\n",
    "# Объединяем все рекомендации в один DataFrame\n",
    "all_recommendations_df = pd.concat(all_recommendations)\n",
    "true_labels_df = test[['user_id', 'track_id']]\n",
    "\n",
    "precision_personal, recall_personal = compute_precision_recall(all_recommendations_df, true_labels_df)\n",
    "print(f\"Precision: {precision_personal:.4f}\")\n",
    "print(f\"Recall: {recall_personal:.4f}\")\n",
    "\n",
    "coverage_personal = coverage_at_k(all_recommendations_df, encoder_track.classes_)\n",
    "print(f\"Coverage: {coverage_personal:.4f}\")\n",
    "novelty_personal = novelty_check(recommendations=all_recommendations_df, data=test)\n",
    "print(f\"Novelty: {novelty_personal:.4f}\")\n"
   ]
  },
  {
   "cell_type": "markdown",
   "id": "86856214",
   "metadata": {},
   "source": [
    "<b>Комментарий от ревьюера v1</b>\n",
    "\n",
    "<div class=\"alert alert-block alert-success\">\n",
    "✔️ Отлично, персональные рекомендации сформированы!\n",
    "</div>\n",
    "\n",
    "<div class=\"alert alert-warning\">\n",
    "    \n",
    "⚠️ `Novelty` имеет отрицательное значение, так быть не должно.\n",
    "    \n",
    "⚠️ Другие метрки выглядят не совсем правильно. Просьба посмотреть реализацию метрик."
   ]
  },
  {
   "cell_type": "markdown",
   "id": "a544ae60",
   "metadata": {},
   "source": [
    "<div class=\"alert alert-block alert-info\">\n",
    "<b>Комментарий студента:</br> \n",
    "Поправил расчет метрик</br>\n",
    "</div>\n"
   ]
  },
  {
   "cell_type": "markdown",
   "id": "c3c7838c",
   "metadata": {},
   "source": [
    "<b>Комментарий от ревьюера v2</b>\n",
    "<div class=\"alert alert-block alert-success\">\n",
    "✔️ Спасибо!\n",
    "</div>"
   ]
  },
  {
   "cell_type": "markdown",
   "id": "5f09dc7e-7c91-4355-860a-b9cfb9f33f15",
   "metadata": {},
   "source": [
    "# Похожие"
   ]
  },
  {
   "cell_type": "markdown",
   "id": "1dfcb683-b440-40a8-9975-894156a53872",
   "metadata": {},
   "source": [
    "Рассчитаем похожие, они позже пригодятся для онлайн-рекомендаций."
   ]
  },
  {
   "cell_type": "code",
   "execution_count": 97,
   "id": "a75d07ee-4b12-4ce5-aa85-e45cb7a7a4f0",
   "metadata": {},
   "outputs": [
    {
     "name": "stderr",
     "output_type": "stream",
     "text": [
      "/home/mle-user/mle_projects/mle-project-sprint-4-v001/.venv/lib/python3.10/site-packages/implicit/utils.py:164: ParameterWarning: Method expects CSR input, and was passed coo_matrix instead. Converting to CSR took 0.01450204849243164 seconds\n",
      "  warnings.warn(\n",
      "100%|██████████| 50/50 [00:30<00:00,  1.64it/s]"
     ]
    },
    {
     "name": "stdout",
     "output_type": "stream",
     "text": [
      "Модель сохранена\n"
     ]
    },
    {
     "name": "stderr",
     "output_type": "stream",
     "text": [
      "\n"
     ]
    }
   ],
   "source": [
    "import numpy as np\n",
    "import pandas as pd\n",
    "from scipy import sparse\n",
    "from implicit.als import AlternatingLeastSquares\n",
    "import sklearn\n",
    "import joblib\n",
    "\n",
    "# Предполагается, что merged_df, train и test уже определены и содержат необходимые данные.\n",
    "\n",
    "# Кодирование идентификаторов пользователей и треков\n",
    "encoder_user = sklearn.preprocessing.LabelEncoder()\n",
    "encoder_user.fit(merged_df[\"user_id\"])\n",
    "train[\"user_id_enc\"] = encoder_user.transform(train[\"user_id\"])\n",
    "test[\"user_id_enc\"] = encoder_user.transform(test[\"user_id\"])\n",
    "\n",
    "encoder_track = sklearn.preprocessing.LabelEncoder()\n",
    "encoder_track.fit(merged_df[\"track_id\"])\n",
    "train[\"track_id_enc\"] = encoder_track.transform(train[\"track_id\"])\n",
    "test[\"track_id_enc\"] = encoder_track.transform(test[\"track_id\"])\n",
    "\n",
    "# Создание разреженной матрицы формата COO (бинарная)\n",
    "rows = train['user_id_enc'].values\n",
    "cols = train['track_id_enc'].values\n",
    "data = np.ones(len(train))  # Все взаимодействия считаем как 1 (прослушивание)\n",
    "\n",
    "user_item_matrix_train = sparse.coo_matrix((data, (rows, cols)), dtype=np.float32)\n",
    "\n",
    "# Обучение модели ALS\n",
    "als_i2i_model = AlternatingLeastSquares(factors=50, iterations=50, regularization=0.05, random_state=0)\n",
    "als_i2i_model.fit(user_item_matrix_train)\n",
    "\n",
    "joblib.dump(als_i2i_model, 'als_i2i_model.pkl')\n",
    "print('Модель сохранена')"
   ]
  },
  {
   "cell_type": "code",
   "execution_count": 98,
   "id": "ce370904-4c49-4152-8706-416074ea9b9a",
   "metadata": {},
   "outputs": [
    {
     "name": "stdout",
     "output_type": "stream",
     "text": [
      "   track_id  similar_track_id\n",
      "0  56052565          73085534\n",
      "1  56052565          48127371\n",
      "2  56052565          11918549\n",
      "3  56052565          29972457\n",
      "4  56052565          34580053\n",
      "     track_id  similar_track_id\n",
      "0    56052565          73085534\n",
      "1    56052565          48127371\n",
      "2    56052565          11918549\n",
      "3    56052565          29972457\n",
      "4    56052565          34580053\n",
      "..        ...               ...\n",
      "495  20619378          62052790\n",
      "496  20619378          13968572\n",
      "497  20619378          19506551\n",
      "498  20619378          41506591\n",
      "499  20619378          28594251\n",
      "\n",
      "[500 rows x 2 columns]\n",
      "Файл similar.parquet загружен в s3-student-mle-20240822-03e9c191e2/recsys/data/recsys/recommendations/similar.parquet\n"
     ]
    },
    {
     "name": "stderr",
     "output_type": "stream",
     "text": [
      "/home/mle-user/mle_projects/mle-project-sprint-4-v001/.venv/lib/python3.10/site-packages/urllib3/connectionpool.py:1099: InsecureRequestWarning: Unverified HTTPS request is being made to host 'storage.yandexcloud.net'. Adding certificate verification is strongly advised. See: https://urllib3.readthedocs.io/en/latest/advanced-usage.html#tls-warnings\n",
      "  warnings.warn(\n"
     ]
    }
   ],
   "source": [
    "from sklearn.metrics.pairwise import cosine_similarity\n",
    "\n",
    "# Загрузка модели\n",
    "als_i2i_model = joblib.load('als_i2i_model.pkl')\n",
    "import numpy as np\n",
    "import pandas as pd\n",
    "from sklearn.metrics.pairwise import cosine_similarity\n",
    "from implicit.als import AlternatingLeastSquares\n",
    "from scipy import sparse\n",
    "\n",
    "# Предполагается, что модель ALS уже обучена и разреженная матрица user_item_matrix_train создана.\n",
    "\n",
    "# Извлечение векторов факторов для треков\n",
    "item_factors = als_i2i_model.item_factors  # Векторы факторов для треков\n",
    "\n",
    "# Создание DataFrame с идентификаторами треков и их векторами факторов\n",
    "track_ids = encoder_track.classes_  # Получаем оригинальные идентификаторы треков\n",
    "track_factors_df = pd.DataFrame(item_factors, index=track_ids)\n",
    "\n",
    "# Функция для получения похожих треков\n",
    "def get_similar_tracks(track_id, track_factors_df, n=5):\n",
    "    if track_id not in track_factors_df.index:\n",
    "        return []\n",
    "    \n",
    "    # Вычисляем схожесть между векторами факторов\n",
    "    similarities = cosine_similarity(track_factors_df.loc[[track_id]], track_factors_df).flatten()\n",
    "    \n",
    "    # Получаем индексы наиболее схожих треков\n",
    "    similar_indices = np.argsort(similarities)[::-1][1:n+1]  # Исключаем сам трек\n",
    "    \n",
    "    # Возвращаем список похожих треков\n",
    "    similar_tracks = track_factors_df.index[similar_indices].tolist()\n",
    "    return similar_tracks\n",
    "\n",
    "# 1. Выбираем 100 случайных треков из тестового набора\n",
    "random_tracks = np.random.choice(test['track_id'], size=100, replace=False)\n",
    "\n",
    "# 2. Получаем похожие треки для выбранных треков и формируем результаты\n",
    "results = []\n",
    "\n",
    "for track in random_tracks:\n",
    "    similar_tracks = get_similar_tracks(track, track_factors_df)\n",
    "    for similar_track in similar_tracks:\n",
    "        results.append({'track_id': track, 'similar_track_id': similar_track})\n",
    "\n",
    "# 3. Формируем DataFrame из результатов\n",
    "similarity_df = pd.DataFrame(results)\n",
    "\n",
    "print(similarity_df.head())  # Вывод первых строк результата\n",
    "\n",
    "print(similarity_df)\n",
    "similarity_df.to_parquet('similar.parquet')\n",
    "upload_file_to_s3('similar.parquet', bucket_name, 'recsys/recommendations/similar.parquet')"
   ]
  },
  {
   "cell_type": "code",
   "execution_count": 99,
   "id": "204b75b9",
   "metadata": {},
   "outputs": [
    {
     "name": "stdout",
     "output_type": "stream",
     "text": [
      "   track_id  similar_track_id\n",
      "0  71575469          40378606\n",
      "1  71575469          24646928\n",
      "2  71575469          37892405\n",
      "3  71575469          78945578\n",
      "4  71575469          48592455\n"
     ]
    }
   ],
   "source": [
    "import numpy as np\n",
    "import pandas as pd\n",
    "from sklearn.metrics.pairwise import cosine_similarity\n",
    "from implicit.als import AlternatingLeastSquares\n",
    "from scipy import sparse\n",
    "\n",
    "# Векторы факторов для треков\n",
    "item_factors = als_model.item_factors\n",
    "# Получаем оригинальные идентификаторы треков\n",
    "track_ids = encoder_track.classes_  \n",
    "track_factors_df = pd.DataFrame(item_factors, index=track_ids)\n",
    "\n",
    "# Функция для получения похожих треков\n",
    "def get_similar_tracks(track_id, track_factors_df, n=5):\n",
    "    if track_id not in track_factors_df.index:\n",
    "        return []\n",
    "    \n",
    "    # Вычисляем схожесть между векторами факторов\n",
    "    similarities = cosine_similarity(track_factors_df.loc[[track_id]], track_factors_df).flatten()\n",
    "    \n",
    "    # Получаем индексы наиболее схожих треков\n",
    "    similar_indices = np.argsort(similarities)[::-1][1:n+1]  # Исключаем сам трек\n",
    "    \n",
    "    # Возвращаем список похожих треков\n",
    "    similar_tracks = track_factors_df.index[similar_indices].tolist()\n",
    "    return similar_tracks\n",
    "\n",
    "# Оценка схожести для 1000 треков из тестового набора\n",
    "n_tracks_to_evaluate = 1000\n",
    "random_tracks = np.random.choice(test['track_id'], size=n_tracks_to_evaluate, replace=False)\n",
    "\n",
    "# Список для хранения результатов\n",
    "results = []\n",
    "\n",
    "for track in random_tracks:\n",
    "    similar_tracks = get_similar_tracks(track, track_factors_df)\n",
    "    for similar_track in similar_tracks:\n",
    "        results.append({'track_id': track, 'similar_track_id': similar_track})\n",
    "\n",
    "# Формируем DataFrame из результатов\n",
    "similarity_df = pd.DataFrame(results)\n",
    "\n",
    "# Выводим первые несколько строк результата\n",
    "print(similarity_df.head())\n",
    "\n",
    "\n"
   ]
  },
  {
   "cell_type": "code",
   "execution_count": null,
   "id": "0068b000",
   "metadata": {},
   "outputs": [
    {
     "name": "stdout",
     "output_type": "stream",
     "text": [
      "         user_id  track_id  track_seq started_at artist_name      track_name  \\\n",
      "2454131  1251811  71575469        417 2022-10-28       Хаски  Никогда-нибудь   \n",
      "2454132  1251811  71575469        417 2022-10-28       Хаски  Никогда-нибудь   \n",
      "2454133   328841  71575469        720 2022-10-12       Хаски  Никогда-нибудь   \n",
      "2454134   328841  71575469        720 2022-10-12       Хаски  Никогда-нибудь   \n",
      "2454135  1303191  71575469        811 2022-11-13       Хаски  Никогда-нибудь   \n",
      "2454136  1303191  71575469        811 2022-11-13       Хаски  Никогда-нибудь   \n",
      "2481272  1029222  40378606        731 2022-08-23    TRUEтень       Моя весна   \n",
      "2481274  1029222  40378606        731 2022-08-23    TRUEтень       Моя весна   \n",
      "\n",
      "        genre_name  \n",
      "2454131     rusrap  \n",
      "2454132        rap  \n",
      "2454133     rusrap  \n",
      "2454134        rap  \n",
      "2454135     rusrap  \n",
      "2454136        rap  \n",
      "2481272     rusrap  \n",
      "2481274        rap  \n",
      "         user_id  track_id  track_seq started_at   artist_name  \\\n",
      "2240992  1029222  24646928        147 2022-06-22        Зануда   \n",
      "2240994  1029222  24646928        147 2022-06-22        Зануда   \n",
      "2240996  1029222  24646928        147 2022-06-22  Ангелина Рай   \n",
      "2240998  1029222  24646928        147 2022-06-22  Ангелина Рай   \n",
      "2454131  1251811  71575469        417 2022-10-28         Хаски   \n",
      "2454132  1251811  71575469        417 2022-10-28         Хаски   \n",
      "2454133   328841  71575469        720 2022-10-12         Хаски   \n",
      "2454134   328841  71575469        720 2022-10-12         Хаски   \n",
      "2454135  1303191  71575469        811 2022-11-13         Хаски   \n",
      "2454136  1303191  71575469        811 2022-11-13         Хаски   \n",
      "\n",
      "             track_name genre_name  \n",
      "2240992          Больно     rusrap  \n",
      "2240994          Больно        rap  \n",
      "2240996          Больно     rusrap  \n",
      "2240998          Больно        rap  \n",
      "2454131  Никогда-нибудь     rusrap  \n",
      "2454132  Никогда-нибудь        rap  \n",
      "2454133  Никогда-нибудь     rusrap  \n",
      "2454134  Никогда-нибудь        rap  \n",
      "2454135  Никогда-нибудь     rusrap  \n",
      "2454136  Никогда-нибудь        rap  \n"
     ]
    }
   ],
   "source": [
    "print(merged_df[merged_df['track_id'].isin([71575469, 40378606])])\n",
    "print(merged_df[merged_df['track_id'].isin([71575469, 24646928])])\n",
    "\n",
    "# Кажется что работает как ожидалось"
   ]
  },
  {
   "cell_type": "markdown",
   "id": "96b7ddf6",
   "metadata": {},
   "source": [
    "<b>Комментарий от ревьюера v1</b>\n",
    "\n",
    "<div class=\"alert alert-block alert-success\">\n",
    "✔️ Похожие треки сформированы.\n",
    "</div>\n",
    "\n",
    "<div class=\"alert alert-warning\">\n",
    "⚠️ Было бы полезно проверить \"похожесть\" треки на нескольких примерах, визуализировав их."
   ]
  },
  {
   "cell_type": "markdown",
   "id": "e2ad5d8c",
   "metadata": {},
   "source": [
    "<div class=\"alert alert-block alert-info\">\n",
    "<b>Комментарий студента:</br> \n",
    "Добавил вывод трека и похожего трека выше - кажется работает как ожидалось</br>\n",
    "</div>\n"
   ]
  },
  {
   "cell_type": "markdown",
   "id": "f8245779",
   "metadata": {},
   "source": [
    "<b>Комментарий от ревьюера v2</b>\n",
    "<div class=\"alert alert-block alert-success\">\n",
    "✔️ ОК\n",
    "</div>"
   ]
  },
  {
   "cell_type": "markdown",
   "id": "0087a3e7-ca9f-42cd-944c-944222c1baef",
   "metadata": {},
   "source": [
    "# Построение признаков"
   ]
  },
  {
   "cell_type": "markdown",
   "id": "e82a32e1-b90b-4eaf-9439-fc8deab9f34b",
   "metadata": {},
   "source": [
    "Построим три признака, можно больше, для ранжирующей модели."
   ]
  },
  {
   "cell_type": "code",
   "execution_count": 107,
   "id": "05b4ae84-406a-44a4-abec-4f80f93e3004",
   "metadata": {},
   "outputs": [
    {
     "name": "stdout",
     "output_type": "stream",
     "text": [
      "   user_id  track_id  listen_count last_listened\n",
      "0       16  33884897             4    2022-09-29\n",
      "1       48  81489159             1    2022-11-11\n",
      "2       69     51312             4    2022-04-20\n",
      "3       69    465060             1    2022-05-10\n",
      "4       69    630034             4    2022-05-16\n"
     ]
    }
   ],
   "source": [
    "# Признак 1: Количество прослушиваний трека пользователем\n",
    "listen_counts = merged_df.groupby(['user_id', 'track_id']).size().reset_index(name='listen_count')\n",
    "# Признак 2: Жанровая популярность трека\n",
    "genre_popularity = merged_df.groupby('genre_name')['track_id'].count().reset_index(name='genre_popularity')\n",
    "# Объединяем данные о жанровой популярности с основным DataFrame\n",
    "merged = merged_df.merge(genre_popularity, on='genre_name', how='left')\n",
    "# Признак 3: Время с последнего прослушивания\n",
    "merged['started_at'] = pd.to_datetime(merged['started_at'])  # Убедитесь, что started_at в формате datetime\n",
    "last_listened = merged.groupby(['user_id', 'track_id'])['started_at'].max().reset_index()\n",
    "last_listened.rename(columns={'started_at': 'last_listened'}, inplace=True)\n",
    "# Объединяем все признаки в один DataFrame\n",
    "features = listen_counts.merge(last_listened, on=['user_id', 'track_id'], how='left')\n",
    "# Добавляем жанровую популярность в итоговый DataFrame\n",
    "features_2 = features.merge(merged_df[['user_id', 'track_id']], on=['user_id', 'track_id'], how='left')\n",
    "# Вычисляем время с последнего прослушивания (в днях)\n",
    "features_2['days_since_last_listened'] = (pd.Timestamp.now() - features_2['last_listened']).dt.days\n",
    "\n",
    "# Удаляем ненужные колонки\n",
    "features_2.drop(['last_listened'], axis=1, inplace=True)\n",
    "\n",
    "print(features.head())"
   ]
  },
  {
   "cell_type": "markdown",
   "id": "47bcf88d-b236-46f0-a6f3-38ddd64895fe",
   "metadata": {},
   "source": [
    "# Ранжирование рекомендаций"
   ]
  },
  {
   "cell_type": "markdown",
   "id": "e8cd8223-3418-4493-8c87-1f76286ebda0",
   "metadata": {},
   "source": [
    "Построим ранжирующую модель, чтобы сделать рекомендации более точными. Отранжируем рекомендации."
   ]
  },
  {
   "cell_type": "code",
   "execution_count": 108,
   "id": "79f1dd92-32a9-463d-827e-8bb9ee5bbb54",
   "metadata": {},
   "outputs": [
    {
     "name": "stdout",
     "output_type": "stream",
     "text": [
      "user_id                   int32\n",
      "track_id                  int32\n",
      "listen_count              int64\n",
      "last_listened    datetime64[ns]\n",
      "dtype: object\n",
      "Mean Squared Error: 0.8312\n",
      "Recall: 0.3918\n",
      "Precision: 0.8085\n",
      "Coverage: 1.2000\n",
      "Novelty: 0.0000\n",
      "    Feature  Importance\n",
      "1  track_id    0.790198\n",
      "0   user_id    0.209802\n",
      "Файл recommendations.parquet загружен в s3-student-mle-20240822-03e9c191e2/recsys/data/recsys/recommendations/recommendations.parquet\n"
     ]
    },
    {
     "name": "stderr",
     "output_type": "stream",
     "text": [
      "/home/mle-user/mle_projects/mle-project-sprint-4-v001/.venv/lib/python3.10/site-packages/urllib3/connectionpool.py:1099: InsecureRequestWarning: Unverified HTTPS request is being made to host 'storage.yandexcloud.net'. Adding certificate verification is strongly advised. See: https://urllib3.readthedocs.io/en/latest/advanced-usage.html#tls-warnings\n",
      "  warnings.warn(\n"
     ]
    }
   ],
   "source": [
    "import numpy as np\n",
    "import pandas as pd\n",
    "from sklearn.model_selection import train_test_split\n",
    "from sklearn.ensemble import RandomForestRegressor\n",
    "from sklearn.metrics import mean_squared_error, recall_score, precision_score\n",
    "\n",
    "# Предположим, что features уже загружен и содержит данные\n",
    "# Проверка типов данных\n",
    "print(features.dtypes)\n",
    "\n",
    "# Удаление столбцов с типом DateTime (если они не нужны)\n",
    "features = features.select_dtypes(exclude=['datetime64[ns]'])\n",
    "\n",
    "# Разделение на признаки и целевую переменную\n",
    "X = features.drop(columns=['listen_count'])  # Признаки\n",
    "y = features['listen_count']  # Целевая переменная\n",
    "\n",
    "# Замена NaN значений на средние значения по каждому столбцу\n",
    "X.fillna(X.mean(), inplace=True)\n",
    "\n",
    "# Разделение на обучающую и тестовую выборки\n",
    "X_train, X_test, y_train, y_test = train_test_split(X, y, test_size=0.2, random_state=42)\n",
    "\n",
    "# Обучение модели\n",
    "model = RandomForestRegressor(n_estimators=100, random_state=42)\n",
    "model.fit(X_train, y_train)\n",
    "\n",
    "# Предсказание на тестовой выборке\n",
    "y_pred = model.predict(X_test)\n",
    "\n",
    "# Оценка качества модели\n",
    "mse = mean_squared_error(y_test, y_pred)\n",
    "print(f'Mean Squared Error: {mse:.4f}')\n",
    "\n",
    "# Определяем порог для классификации как \"релевантный\"\n",
    "threshold = 10  # Задайте пороговое значение для релевантности\n",
    "\n",
    "# Преобразуем предсказания и истинные значения в бинарные метки\n",
    "y_true_binary = (y_test > threshold).astype(int)\n",
    "y_pred_binary = (y_pred > threshold).astype(int)\n",
    "\n",
    "# Вычисляем Recall и Precision\n",
    "recall_range = recall_score(y_true_binary, y_pred_binary)\n",
    "precision_range = precision_score(y_true_binary, y_pred_binary)\n",
    "\n",
    "print(f'Recall: {recall_range:.4f}')\n",
    "print(f'Precision: {precision_range:.4f}')\n",
    "\n",
    "# Метрика Coverage\n",
    "unique_recommended_tracks = np.unique(y_pred[y_pred > threshold])  # Уникальные рекомендованные треки\n",
    "total_tracks = len(np.unique(y))  # Общее количество уникальных треков\n",
    "\n",
    "coverage_range = len(unique_recommended_tracks) / total_tracks if total_tracks > 0 else 0\n",
    "print(f'Coverage: {coverage_range:.4f}')\n",
    "\n",
    "# Метрика Novelty\n",
    "track_popularity = features.groupby('track_id')['listen_count'].mean()  # Средняя популярность треков\n",
    "novelty_scores = [np.log(1 / (track_popularity[track_id] + 1)) for track_id in unique_recommended_tracks if track_id in track_popularity]\n",
    "novelty_range = np.mean(novelty_scores) if novelty_scores else 0\n",
    "\n",
    "print(f'Novelty: {novelty_range:.4f}')\n",
    "\n",
    "# Выводим важность признаков\n",
    "importances = model.feature_importances_\n",
    "recommendations = pd.DataFrame({'Feature': X.columns, 'Importance': importances})\n",
    "print(recommendations.sort_values(by='Importance', ascending=False))\n",
    "\n",
    "# Сохранение рекомендаций в Parquet файл\n",
    "recommendations.to_parquet('recommendations.parquet')\n",
    "\n",
    "# Загрузка файла в S3 (если применимо)\n",
    "upload_file_to_s3('recommendations.parquet', bucket_name, 'recsys/recommendations/recommendations.parquet')"
   ]
  },
  {
   "cell_type": "markdown",
   "id": "b3c84071-45b5-4a15-a683-e0ab034a3128",
   "metadata": {},
   "source": [
    "# Оценка качества"
   ]
  },
  {
   "cell_type": "markdown",
   "id": "1b107fe4-554e-42b1-87d9-c435a52bb77a",
   "metadata": {},
   "source": [
    "Проверим оценку качества трёх типов рекомендаций: \n",
    "\n",
    "- топ популярных,\n",
    "- персональных, полученных при помощи ALS,\n",
    "- итоговых\n",
    "\n",
    "по четырем метрикам: recall, precision, coverage, novelty."
   ]
  },
  {
   "cell_type": "code",
   "execution_count": 109,
   "id": "94d6f388-aecb-443e-8647-14014e932d4d",
   "metadata": {},
   "outputs": [
    {
     "name": "stdout",
     "output_type": "stream",
     "text": [
      "Recall@: 0.0003\n",
      "Precision@: 0.0240\n",
      "Coverage: 0.0024\n",
      "Novelty: 0.9806\n"
     ]
    }
   ],
   "source": [
    "# персональные\n",
    "print(f'Recall@: {recall_personal:.4f}')\n",
    "print(f'Precision@: {precision_personal:.4f}')\n",
    "print(f'Coverage: {coverage_personal:.4f}')\n",
    "print(f'Novelty: {novelty_personal:.4f}')"
   ]
  },
  {
   "cell_type": "markdown",
   "id": "da406426",
   "metadata": {},
   "source": [
    "<b>Комментарий от ревьюера v1</b>\n",
    "\n",
    "<div class=\"alert alert-warning\">\n",
    "    \n",
    "⚠️ `Novelty` имеет отрицательное значение, так быть не должно.\n",
    "    \n",
    "⚠️ Другие метрки выглядят не совсем правильно. Просьба посмотреть реализацию метрик."
   ]
  },
  {
   "cell_type": "code",
   "execution_count": 110,
   "id": "f8ae9833",
   "metadata": {},
   "outputs": [
    {
     "name": "stdout",
     "output_type": "stream",
     "text": [
      "Recall: 0.3918\n",
      "Precision: 0.8085\n",
      "Coverage: 1.2000\n",
      "Novelty: 0.0000\n"
     ]
    }
   ],
   "source": [
    "# Итоговые\n",
    "print(f'Recall: {recall_range:.4f}')\n",
    "print(f'Precision: {precision_range:.4f}')\n",
    "print(f'Coverage: {coverage_range:.4f}')\n",
    "print(f'Novelty: {novelty_range:.4f}')\n"
   ]
  },
  {
   "cell_type": "markdown",
   "id": "f1c8d38c-32b0-46a4-96f0-cd01dac708bc",
   "metadata": {},
   "source": [
    "# === Выводы, метрики ==="
   ]
  },
  {
   "cell_type": "markdown",
   "id": "f7d7d5d8-7d1e-4fdf-a6cd-83e5ce92c684",
   "metadata": {},
   "source": [
    "Основные выводы при работе над расчётом рекомендаций, рассчитанные метрики."
   ]
  },
  {
   "cell_type": "markdown",
   "id": "47217eba",
   "metadata": {},
   "source": [
    "<div class=\"alert alert-block alert-info\">\n",
    "<b>Комментарий студента:</br> \n",
    "Выводы:</br>\n",
    "Со второй попытки получилось немного лучше. </br>\n",
    "Работают персональные рекомендации, схожие треки реально схожи, по крайне мере небольшая выборка показывает что предлагаются треки одного или смежного жанра, похожих исполнителей.</br>\n",
    "В целом получилось упростить обработку данных, увеличить объем обрабатываемого df и добиться желаемого результата</br>\n",
    "</div>\n"
   ]
  },
  {
   "cell_type": "markdown",
   "id": "a7480b44",
   "metadata": {},
   "source": [
    "<b>Комментарий от ревьюера v1</b>\n",
    "\n",
    "<div class=\"alert alert-block alert-danger\">\n",
    "❌ Просьба добавить выводы по твоей работе. Это поможет подвести итоги по работе и презентовать ее перед заказчиком/тимлидом.\n",
    "</div>"
   ]
  },
  {
   "cell_type": "markdown",
   "id": "4416dac9",
   "metadata": {},
   "source": [
    "<b>Комментарий от ревьюера v2</b>\n",
    "<div class=\"alert alert-block alert-success\">\n",
    "✔️ Отлично! Спасибо!\n",
    "</div>"
   ]
  },
  {
   "cell_type": "markdown",
   "id": "502cf309",
   "metadata": {},
   "source": [
    "<b>Комментарий от ревьюера v1</b>\n",
    " \n",
    " Общий вывод\n",
    "\n",
    "<div class=\"alert alert-block alert-success\">\n",
    "    \n",
    "\n",
    "Спасибо за работу, у тебя получился отличный проект!\n",
    "\n",
    "Удалось протестировать различные алгоритмы для формирования рекомендаций.  \n",
    "Пока есть критичные замечания, просьба исправить их.\n",
    "    \n",
    "Также, есть небольшие советы, просьба ознакомиться с ними. Я буду готов принять твой проект после критичных замечаний.\\\n",
    "Если есть вопросы или желание улучшить твой проект - оставь вопросы комментарии после этой ячейки. Постараюсь тебе помочь с ответами и улучшением твоего проекта! \n",
    "</div>\n",
    "\n",
    "Для дальнейшего изучения стоит ознакомиться с библиотеками:\n",
    "- [Implicit](https://github.com/benfred/implicit)\n",
    "- [RecTools](https://github.com/MobileTeleSystems/RecTools)\n",
    "- [RePlay](https://github.com/sb-ai-lab/RePlay)\n",
    "- [LightFM](https://github.com/lyst/lightfm)\n",
    "   \n",
    "Прочитать:\n",
    "- обзорную [статью](https://education.yandex.ru/handbook/ml/article/intro-recsys) и ее продолжение.\n",
    "- полазить на [сайте](https://paperswithcode.com/task/recommendation-systems). Тут очень много примеров реальных рекомендательных систем с имплементацией.\n"
   ]
  },
  {
   "cell_type": "markdown",
   "id": "2e951105",
   "metadata": {},
   "source": [
    "<div class=\"alert alert-block alert-info\">\n",
    "<b>Комментарий студента:</br> \n",
    "Круто, спасибо за ссылки\n",
    "</div>\n"
   ]
  },
  {
   "cell_type": "markdown",
   "id": "1200b428",
   "metadata": {},
   "source": [
    "<b>Комментарий от ревьюера v2</b>\n",
    "<div class=\"alert alert-block alert-success\">\n",
    "✔️ Твой проект принимаю! Удачи в учебе!\n",
    "</div>"
   ]
  }
 ],
 "metadata": {
  "ExecuteTimeLog": [
   {
    "duration": 61,
    "start_time": "2024-11-24T10:25:22.156Z"
   },
   {
    "duration": 135,
    "start_time": "2024-11-24T10:26:02.505Z"
   },
   {
    "duration": 55,
    "start_time": "2024-11-24T10:26:08.425Z"
   }
  ],
  "kernelspec": {
   "display_name": "Python 3 (ipykernel)",
   "language": "python",
   "name": "python3"
  },
  "language_info": {
   "codemirror_mode": {
    "name": "ipython",
    "version": 3
   },
   "file_extension": ".py",
   "mimetype": "text/x-python",
   "name": "python",
   "nbconvert_exporter": "python",
   "pygments_lexer": "ipython3",
   "version": "3.9.5"
  },
  "toc": {
   "base_numbering": 1,
   "nav_menu": {},
   "number_sections": true,
   "sideBar": true,
   "skip_h1_title": true,
   "title_cell": "Table of Contents",
   "title_sidebar": "Contents",
   "toc_cell": false,
   "toc_position": {},
   "toc_section_display": true,
   "toc_window_display": false
  }
 },
 "nbformat": 4,
 "nbformat_minor": 5
}
